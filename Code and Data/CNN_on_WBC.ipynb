{
 "cells": [
  {
   "cell_type": "code",
   "execution_count": 1,
   "metadata": {},
   "outputs": [],
   "source": [
    "#IMPORTING STUFFS\n",
    "import tensorflow as tf\n",
    "import matplotlib.pyplot as plt\n",
    "from tensorflow import keras\n",
    "import numpy as np\n",
    "from sklearn.utils import shuffle\n",
    "import pandas as pd \n",
    "from skimage.io import imread, imshow\n",
    "from skimage.transform import rescale\n",
    "from os import listdir\n",
    "from sklearn.model_selection import train_test_split as tts"
   ]
  },
  {
   "cell_type": "code",
   "execution_count": 2,
   "metadata": {},
   "outputs": [
    {
     "data": {
      "text/plain": [
       "[PhysicalDevice(name='/physical_device:CPU:0', device_type='CPU'),\n",
       " PhysicalDevice(name='/physical_device:GPU:0', device_type='GPU')]"
      ]
     },
     "execution_count": 2,
     "metadata": {},
     "output_type": "execute_result"
    }
   ],
   "source": [
    " #CHECKING GPU\n",
    " tf.config.list_physical_devices()"
   ]
  },
  {
   "cell_type": "code",
   "execution_count": 3,
   "metadata": {},
   "outputs": [],
   "source": [
    "#GETTING DATA\n",
    "X = []\n",
    "Y = []\n",
    "for filename in listdir('D:/NISER/Physics/7th Sem Stuffs/Machine Learning/Semester Project/Dataset/dataset2-master/dataset2-master/images/TRAIN/EOSINOPHIL'):\n",
    "    # load image\n",
    "    img_data = imread('D:/NISER/Physics/7th Sem Stuffs/Machine Learning/Semester Project/Dataset/dataset2-master/dataset2-master/images/TRAIN/EOSINOPHIL/' + filename,as_gray=True)\n",
    "    #Rescaling the image\n",
    "    image_r = rescale(img_data, 0.5, anti_aliasing=False)\n",
    "    X.append(image_r)\n",
    "    Y.append(0)\n",
    "\n",
    "for filename in listdir('D:/NISER/Physics/7th Sem Stuffs/Machine Learning/Semester Project/Dataset/dataset2-master/dataset2-master/images/TRAIN/LYMPHOCYTE'):\n",
    "    # load image\n",
    "    img_data = imread('D:/NISER/Physics/7th Sem Stuffs/Machine Learning/Semester Project/Dataset/dataset2-master/dataset2-master/images/TRAIN/LYMPHOCYTE/' + filename,as_gray=True)\n",
    "    #Rescaling the image\n",
    "    image_r = rescale(img_data, 0.5, anti_aliasing=False)\n",
    "    X.append(image_r)\n",
    "    Y.append(1)\n",
    "\n",
    "for filename in listdir('D:/NISER/Physics/7th Sem Stuffs/Machine Learning/Semester Project/Dataset/dataset2-master/dataset2-master/images/TRAIN/MONOCYTE'):\n",
    "    # load image\n",
    "    img_data = imread('D:/NISER/Physics/7th Sem Stuffs/Machine Learning/Semester Project/Dataset/dataset2-master/dataset2-master/images/TRAIN/MONOCYTE/' + filename,as_gray=True)\n",
    "    #Rescaling the image\n",
    "    image_r = rescale(img_data, 0.5, anti_aliasing=False)\n",
    "    X.append(image_r)\n",
    "    Y.append(2)\n",
    "\n",
    "for filename in listdir('D:/NISER/Physics/7th Sem Stuffs/Machine Learning/Semester Project/Dataset/dataset2-master/dataset2-master/images/TRAIN/NEUTROPHIL'):\n",
    "    # load image\n",
    "    img_data = imread('D:/NISER/Physics/7th Sem Stuffs/Machine Learning/Semester Project/Dataset/dataset2-master/dataset2-master/images/TRAIN/NEUTROPHIL/' + filename,as_gray=True)\n",
    "    #Rescaling the image\n",
    "    image_r = rescale(img_data, 0.5, anti_aliasing=False)\n",
    "    X.append(image_r)\n",
    "    Y.append(3)\n",
    "\n",
    "X_arr = np.array(X)\n",
    "Y_arr = np.array(Y)\n",
    "\n",
    "X_fi,Y_fi = shuffle(X_arr,Y_arr)"
   ]
  },
  {
   "cell_type": "code",
   "execution_count": 4,
   "metadata": {},
   "outputs": [
    {
     "name": "stdout",
     "output_type": "stream",
     "text": [
      "(9957, 120, 160)\n",
      "(9957,)\n"
     ]
    }
   ],
   "source": [
    "print(X_fi.shape)\n",
    "print(Y_fi.shape)"
   ]
  },
  {
   "cell_type": "code",
   "execution_count": 5,
   "metadata": {},
   "outputs": [],
   "source": [
    "X_train, X_test, y_train, y_test = tts(X_fi, Y_fi, test_size=0.33)"
   ]
  },
  {
   "cell_type": "code",
   "execution_count": 6,
   "metadata": {},
   "outputs": [
    {
     "data": {
      "text/plain": [
       "(6671, 120, 160, 1)"
      ]
     },
     "execution_count": 6,
     "metadata": {},
     "output_type": "execute_result"
    }
   ],
   "source": [
    "#RESHAPING TO PASS THE ARRAY TO CNN\n",
    "\n",
    "X_train = X_train.reshape(6671,120,160,1)\n",
    "X_train.shape\n",
    "# plt.matshow(X_train[0])"
   ]
  },
  {
   "cell_type": "code",
   "execution_count": 7,
   "metadata": {},
   "outputs": [
    {
     "name": "stdout",
     "output_type": "stream",
     "text": [
      "Epoch 1/20\n",
      "209/209 [==============================] - 20s 29ms/step - loss: 1.5123 - accuracy: 0.2443\n",
      "Epoch 2/20\n",
      "209/209 [==============================] - 6s 27ms/step - loss: 1.4007 - accuracy: 0.2667\n",
      "Epoch 3/20\n",
      "209/209 [==============================] - 6s 27ms/step - loss: 1.3916 - accuracy: 0.2689\n",
      "Epoch 4/20\n",
      "209/209 [==============================] - 6s 27ms/step - loss: 1.3835 - accuracy: 0.2869\n",
      "Epoch 5/20\n",
      "209/209 [==============================] - 6s 27ms/step - loss: 1.3704 - accuracy: 0.3125\n",
      "Epoch 6/20\n",
      "209/209 [==============================] - 6s 27ms/step - loss: 1.3501 - accuracy: 0.3388\n",
      "Epoch 7/20\n",
      "209/209 [==============================] - 6s 27ms/step - loss: 1.3240 - accuracy: 0.3694\n",
      "Epoch 8/20\n",
      "209/209 [==============================] - 6s 27ms/step - loss: 1.2636 - accuracy: 0.4215\n",
      "Epoch 9/20\n",
      "209/209 [==============================] - 6s 27ms/step - loss: 1.1696 - accuracy: 0.4813\n",
      "Epoch 10/20\n",
      "209/209 [==============================] - 6s 27ms/step - loss: 1.0575 - accuracy: 0.5455\n",
      "Epoch 11/20\n",
      "209/209 [==============================] - 6s 27ms/step - loss: 0.9274 - accuracy: 0.6164\n",
      "Epoch 12/20\n",
      "209/209 [==============================] - 6s 27ms/step - loss: 0.7577 - accuracy: 0.7038\n",
      "Epoch 13/20\n",
      "209/209 [==============================] - 6s 27ms/step - loss: 0.5884 - accuracy: 0.7802\n",
      "Epoch 14/20\n",
      "209/209 [==============================] - 6s 27ms/step - loss: 0.4129 - accuracy: 0.8576\n",
      "Epoch 15/20\n",
      "209/209 [==============================] - 6s 27ms/step - loss: 0.2722 - accuracy: 0.9090\n",
      "Epoch 16/20\n",
      "209/209 [==============================] - 6s 27ms/step - loss: 0.1604 - accuracy: 0.9612\n",
      "Epoch 17/20\n",
      "209/209 [==============================] - 6s 27ms/step - loss: 0.0838 - accuracy: 0.9853\n",
      "Epoch 18/20\n",
      "209/209 [==============================] - 6s 27ms/step - loss: 0.0475 - accuracy: 0.9948\n",
      "Epoch 19/20\n",
      "209/209 [==============================] - 6s 27ms/step - loss: 0.0208 - accuracy: 0.9996\n",
      "Epoch 20/20\n",
      "209/209 [==============================] - 6s 27ms/step - loss: 0.0100 - accuracy: 1.0000\n"
     ]
    },
    {
     "data": {
      "text/plain": [
       "<keras.callbacks.History at 0x1ba202b6b50>"
      ]
     },
     "execution_count": 7,
     "metadata": {},
     "output_type": "execute_result"
    }
   ],
   "source": [
    "#MODEL\n",
    "model = keras.Sequential([\n",
    "    #cnn layers\n",
    "    keras.layers.Conv2D(filters=32,kernel_size=(3, 3),activation='relu',input_shape=(120,160,1)),\n",
    "    keras.layers.MaxPooling2D((2,2)),\n",
    "\n",
    "    keras.layers.Conv2D(filters=64,kernel_size=(3, 3),activation='relu'),\n",
    "    keras.layers.MaxPooling2D((2,2)),\n",
    "\n",
    "    #dense normal ann\n",
    "    keras.layers.Flatten(),     \n",
    "    \n",
    "    keras.layers.Dense(60,activation='relu'),\n",
    "    \n",
    "    keras.layers.Dense(10,activation='softmax'),\n",
    "    #softmax normalises the probability of the output set\n",
    "])\n",
    "\n",
    "\n",
    "model.compile(\n",
    "    optimizer='adam',\n",
    "    loss = 'sparse_categorical_crossentropy',\n",
    "    metrics=['accuracy']\n",
    ")\n",
    "\n",
    "model.fit(X_train,y_train,epochs=20)"
   ]
  },
  {
   "cell_type": "code",
   "execution_count": 10,
   "metadata": {},
   "outputs": [
    {
     "name": "stdout",
     "output_type": "stream",
     "text": [
      "103/103 [==============================] - 1s 11ms/step - loss: 2.8163 - accuracy: 0.4607\n"
     ]
    },
    {
     "data": {
      "text/plain": [
       "[2.816295623779297, 0.4607425332069397]"
      ]
     },
     "execution_count": 10,
     "metadata": {},
     "output_type": "execute_result"
    }
   ],
   "source": [
    "#EVALUATION\n",
    "X_test = X_test.reshape(3286,120,160,1)\n",
    "model.evaluate(X_test,y_test)"
   ]
  },
  {
   "cell_type": "code",
   "execution_count": null,
   "metadata": {},
   "outputs": [],
   "source": []
  }
 ],
 "metadata": {
  "interpreter": {
   "hash": "6a60c7c0bbb9bc49c8f38655c364c79f9d895feb50eef24a1951784535a81066"
  },
  "kernelspec": {
   "display_name": "Python 3.9.7 64-bit",
   "name": "python3"
  },
  "language_info": {
   "codemirror_mode": {
    "name": "ipython",
    "version": 3
   },
   "file_extension": ".py",
   "mimetype": "text/x-python",
   "name": "python",
   "nbconvert_exporter": "python",
   "pygments_lexer": "ipython3",
   "version": "3.9.7"
  },
  "orig_nbformat": 4
 },
 "nbformat": 4,
 "nbformat_minor": 2
}
