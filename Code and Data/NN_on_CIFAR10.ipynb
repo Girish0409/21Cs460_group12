{
 "cells": [
  {
   "cell_type": "code",
   "execution_count": 1,
   "metadata": {},
   "outputs": [],
   "source": [
    "#IMPORTING STUFFS\n",
    "import tensorflow as tf\n",
    "import matplotlib.pyplot as plt\n",
    "from tensorflow import keras\n",
    "from keras.datasets import cifar10"
   ]
  },
  {
   "cell_type": "code",
   "execution_count": 2,
   "metadata": {},
   "outputs": [
    {
     "name": "stdout",
     "output_type": "stream",
     "text": [
      "True\n",
      "[PhysicalDevice(name='/physical_device:GPU:0', device_type='GPU')]\n",
      "[PhysicalDevice(name='/physical_device:CPU:0', device_type='CPU'), PhysicalDevice(name='/physical_device:GPU:0', device_type='GPU')]\n"
     ]
    }
   ],
   "source": [
    "#TENSORFLOW COMPATIBILITY WITH GPU\n",
    "print(tf.test.is_built_with_cuda())\n",
    "print(tf.config.list_physical_devices('GPU'))\n",
    "print(tf.config.experimental.list_physical_devices())"
   ]
  },
  {
   "cell_type": "code",
   "execution_count": 3,
   "metadata": {},
   "outputs": [],
   "source": [
    "#DATASET AND NORMALISATION\n",
    "(x_train, y_train), (x_test, y_test) = keras.datasets.cifar10.load_data()\n",
    "x_train_scaled = x_train/255\n",
    "x_test_scaled = x_test/255"
   ]
  },
  {
   "cell_type": "code",
   "execution_count": 4,
   "metadata": {},
   "outputs": [
    {
     "name": "stdout",
     "output_type": "stream",
     "text": [
      "(50000, 32, 32, 3)\n",
      "(50000, 32, 32, 3)\n"
     ]
    }
   ],
   "source": [
    "print(x_train.shape)\n",
    "print(x_train_scaled.shape)"
   ]
  },
  {
   "cell_type": "code",
   "execution_count": 6,
   "metadata": {},
   "outputs": [
    {
     "name": "stdout",
     "output_type": "stream",
     "text": [
      "Epoch 1/50\n",
      "1563/1563 [==============================] - 10s 6ms/step - loss: 1.8741 - accuracy: 0.3296\n",
      "Epoch 2/50\n",
      "1563/1563 [==============================] - 10s 6ms/step - loss: 1.6495 - accuracy: 0.4107\n",
      "Epoch 3/50\n",
      "1563/1563 [==============================] - 10s 6ms/step - loss: 1.5725 - accuracy: 0.4376\n",
      "Epoch 4/50\n",
      "1563/1563 [==============================] - 10s 6ms/step - loss: 1.5201 - accuracy: 0.4545\n",
      "Epoch 5/50\n",
      "1563/1563 [==============================] - 10s 6ms/step - loss: 1.4820 - accuracy: 0.4689\n",
      "Epoch 6/50\n",
      "1563/1563 [==============================] - 10s 6ms/step - loss: 1.4515 - accuracy: 0.4813\n",
      "Epoch 7/50\n",
      "1563/1563 [==============================] - 10s 6ms/step - loss: 1.4242 - accuracy: 0.4917\n",
      "Epoch 8/50\n",
      "1563/1563 [==============================] - 10s 6ms/step - loss: 1.3925 - accuracy: 0.5021\n",
      "Epoch 9/50\n",
      "1563/1563 [==============================] - 10s 6ms/step - loss: 1.3704 - accuracy: 0.5099\n",
      "Epoch 10/50\n",
      "1563/1563 [==============================] - 10s 6ms/step - loss: 1.3502 - accuracy: 0.5181\n",
      "Epoch 11/50\n",
      "1563/1563 [==============================] - 10s 6ms/step - loss: 1.3254 - accuracy: 0.5257\n",
      "Epoch 12/50\n",
      "1563/1563 [==============================] - 10s 6ms/step - loss: 1.3067 - accuracy: 0.5322\n",
      "Epoch 13/50\n",
      "1563/1563 [==============================] - 10s 6ms/step - loss: 1.2894 - accuracy: 0.5396\n",
      "Epoch 14/50\n",
      "1563/1563 [==============================] - 10s 6ms/step - loss: 1.2775 - accuracy: 0.5426\n",
      "Epoch 15/50\n",
      "1563/1563 [==============================] - 10s 6ms/step - loss: 1.2597 - accuracy: 0.5469\n",
      "Epoch 16/50\n",
      "1563/1563 [==============================] - 10s 6ms/step - loss: 1.2438 - accuracy: 0.5532\n",
      "Epoch 17/50\n",
      "1563/1563 [==============================] - 10s 6ms/step - loss: 1.2279 - accuracy: 0.5578\n",
      "Epoch 18/50\n",
      "1563/1563 [==============================] - 10s 6ms/step - loss: 1.2121 - accuracy: 0.5660\n",
      "Epoch 19/50\n",
      "1563/1563 [==============================] - 10s 6ms/step - loss: 1.2015 - accuracy: 0.5685\n",
      "Epoch 20/50\n",
      "1563/1563 [==============================] - 10s 6ms/step - loss: 1.1865 - accuracy: 0.5757\n",
      "Epoch 21/50\n",
      "1563/1563 [==============================] - 10s 6ms/step - loss: 1.1735 - accuracy: 0.5791\n",
      "Epoch 22/50\n",
      "1563/1563 [==============================] - 10s 6ms/step - loss: 1.1628 - accuracy: 0.5818\n",
      "Epoch 23/50\n",
      "1563/1563 [==============================] - 10s 6ms/step - loss: 1.1496 - accuracy: 0.5891\n",
      "Epoch 24/50\n",
      "1563/1563 [==============================] - 10s 6ms/step - loss: 1.1398 - accuracy: 0.5905\n",
      "Epoch 25/50\n",
      "1563/1563 [==============================] - 10s 6ms/step - loss: 1.1310 - accuracy: 0.5914\n",
      "Epoch 26/50\n",
      "1563/1563 [==============================] - 10s 6ms/step - loss: 1.1172 - accuracy: 0.5980\n",
      "Epoch 27/50\n",
      "1563/1563 [==============================] - 10s 6ms/step - loss: 1.1125 - accuracy: 0.6012\n",
      "Epoch 28/50\n",
      "1563/1563 [==============================] - 10s 6ms/step - loss: 1.0994 - accuracy: 0.6041\n",
      "Epoch 29/50\n",
      "1563/1563 [==============================] - 10s 6ms/step - loss: 1.0916 - accuracy: 0.6051\n",
      "Epoch 30/50\n",
      "1563/1563 [==============================] - 10s 6ms/step - loss: 1.0874 - accuracy: 0.6084\n",
      "Epoch 31/50\n",
      "1563/1563 [==============================] - 10s 6ms/step - loss: 1.0773 - accuracy: 0.6128\n",
      "Epoch 32/50\n",
      "1563/1563 [==============================] - 10s 6ms/step - loss: 1.0708 - accuracy: 0.6156\n",
      "Epoch 33/50\n",
      "1563/1563 [==============================] - 10s 6ms/step - loss: 1.0584 - accuracy: 0.6182\n",
      "Epoch 34/50\n",
      "1563/1563 [==============================] - 10s 6ms/step - loss: 1.0542 - accuracy: 0.6196\n",
      "Epoch 35/50\n",
      "1563/1563 [==============================] - 10s 6ms/step - loss: 1.0458 - accuracy: 0.6227\n",
      "Epoch 36/50\n",
      "1563/1563 [==============================] - 10s 6ms/step - loss: 1.0326 - accuracy: 0.6298\n",
      "Epoch 37/50\n",
      "1563/1563 [==============================] - 10s 6ms/step - loss: 1.0228 - accuracy: 0.6311\n",
      "Epoch 38/50\n",
      "1563/1563 [==============================] - 10s 6ms/step - loss: 1.0298 - accuracy: 0.6273\n",
      "Epoch 39/50\n",
      "1563/1563 [==============================] - 10s 6ms/step - loss: 1.0151 - accuracy: 0.6329\n",
      "Epoch 40/50\n",
      "1563/1563 [==============================] - 10s 6ms/step - loss: 1.0053 - accuracy: 0.6381\n",
      "Epoch 41/50\n",
      "1563/1563 [==============================] - 10s 6ms/step - loss: 0.9990 - accuracy: 0.6412\n",
      "Epoch 42/50\n",
      "1563/1563 [==============================] - 10s 6ms/step - loss: 0.9974 - accuracy: 0.6406\n",
      "Epoch 43/50\n",
      "1563/1563 [==============================] - 10s 6ms/step - loss: 0.9882 - accuracy: 0.6432\n",
      "Epoch 44/50\n",
      "1563/1563 [==============================] - 10s 6ms/step - loss: 0.9801 - accuracy: 0.6446\n",
      "Epoch 45/50\n",
      "1563/1563 [==============================] - 10s 6ms/step - loss: 0.9754 - accuracy: 0.6488\n",
      "Epoch 46/50\n",
      "1563/1563 [==============================] - 10s 6ms/step - loss: 0.9702 - accuracy: 0.6529\n",
      "Epoch 47/50\n",
      "1563/1563 [==============================] - 10s 6ms/step - loss: 0.9568 - accuracy: 0.6559\n",
      "Epoch 48/50\n",
      "1563/1563 [==============================] - 10s 6ms/step - loss: 0.9685 - accuracy: 0.6513\n",
      "Epoch 49/50\n",
      "1563/1563 [==============================] - 10s 6ms/step - loss: 0.9565 - accuracy: 0.6571\n",
      "Epoch 50/50\n",
      "1563/1563 [==============================] - 10s 6ms/step - loss: 0.9501 - accuracy: 0.6572\n"
     ]
    },
    {
     "data": {
      "text/plain": [
       "<keras.callbacks.History at 0x26e81222f10>"
      ]
     },
     "execution_count": 6,
     "metadata": {},
     "output_type": "execute_result"
    }
   ],
   "source": [
    "#MODEL \n",
    "model = keras.Sequential([ \n",
    "    keras.layers.Flatten(input_shape=(32,32,3)),     #32 * 32 sized figure with 3 rgb channel\n",
    "    keras.layers.Dense(3000,activation='relu'),\n",
    "   \n",
    "    keras.layers.Dense(1000,activation='relu'),\n",
    "    keras.layers.Dense(10,activation='sigmoid'),\n",
    "])\n",
    "\n",
    "model.compile(\n",
    "    optimizer='Adam',\n",
    "    loss='sparse_categorical_crossentropy',\n",
    "    #you can use loss as categorical crossentropy loss function but them the y_train should be hot encoded\n",
    "    metrics=['accuracy'],\n",
    ")\n",
    "\n",
    "model.fit(x_train_scaled,y_train,epochs=50)"
   ]
  },
  {
   "cell_type": "code",
   "execution_count": 7,
   "metadata": {},
   "outputs": [
    {
     "name": "stdout",
     "output_type": "stream",
     "text": [
      "313/313 [==============================] - 1s 3ms/step - loss: 1.8036 - accuracy: 0.4834\n"
     ]
    },
    {
     "data": {
      "text/plain": [
       "[1.8035662174224854, 0.48339998722076416]"
      ]
     },
     "execution_count": 7,
     "metadata": {},
     "output_type": "execute_result"
    }
   ],
   "source": [
    "model.evaluate(x_test_scaled,y_test)"
   ]
  },
  {
   "cell_type": "code",
   "execution_count": 5,
   "metadata": {},
   "outputs": [
    {
     "name": "stdout",
     "output_type": "stream",
     "text": [
      "Epoch 1/50\n",
      "1563/1563 [==============================] - 11s 6ms/step - loss: 1.8809 - accuracy: 0.3190\n",
      "Epoch 2/50\n",
      "1563/1563 [==============================] - 9s 6ms/step - loss: 1.6795 - accuracy: 0.3924\n",
      "Epoch 3/50\n",
      "1563/1563 [==============================] - 9s 6ms/step - loss: 1.5937 - accuracy: 0.4256\n",
      "Epoch 4/50\n",
      "1563/1563 [==============================] - 9s 5ms/step - loss: 1.5415 - accuracy: 0.4451\n",
      "Epoch 5/50\n",
      "1563/1563 [==============================] - 9s 5ms/step - loss: 1.4982 - accuracy: 0.4635\n",
      "Epoch 6/50\n",
      "1563/1563 [==============================] - 9s 5ms/step - loss: 1.4640 - accuracy: 0.4750\n",
      "Epoch 7/50\n",
      "1563/1563 [==============================] - 9s 6ms/step - loss: 1.4336 - accuracy: 0.4855\n",
      "Epoch 8/50\n",
      "1563/1563 [==============================] - 9s 5ms/step - loss: 1.4046 - accuracy: 0.4965\n",
      "Epoch 9/50\n",
      "1563/1563 [==============================] - 9s 5ms/step - loss: 1.3795 - accuracy: 0.5048\n",
      "Epoch 10/50\n",
      "1563/1563 [==============================] - 9s 6ms/step - loss: 1.3576 - accuracy: 0.5120\n",
      "Epoch 11/50\n",
      "1563/1563 [==============================] - 9s 6ms/step - loss: 1.3269 - accuracy: 0.5215\n",
      "Epoch 12/50\n",
      "1563/1563 [==============================] - 8s 5ms/step - loss: 1.3040 - accuracy: 0.5311\n",
      "Epoch 13/50\n",
      "1563/1563 [==============================] - 8s 5ms/step - loss: 1.2793 - accuracy: 0.5392\n",
      "Epoch 14/50\n",
      "1563/1563 [==============================] - 8s 5ms/step - loss: 1.2534 - accuracy: 0.5493\n",
      "Epoch 15/50\n",
      "1563/1563 [==============================] - 8s 5ms/step - loss: 1.2293 - accuracy: 0.5581\n",
      "Epoch 16/50\n",
      "1563/1563 [==============================] - 9s 6ms/step - loss: 1.2034 - accuracy: 0.5642\n",
      "Epoch 17/50\n",
      "1563/1563 [==============================] - 9s 5ms/step - loss: 1.1792 - accuracy: 0.5731\n",
      "Epoch 18/50\n",
      "1563/1563 [==============================] - 8s 5ms/step - loss: 1.1510 - accuracy: 0.5837\n",
      "Epoch 19/50\n",
      "1563/1563 [==============================] - 8s 5ms/step - loss: 1.1295 - accuracy: 0.5910\n",
      "Epoch 20/50\n",
      "1563/1563 [==============================] - 8s 5ms/step - loss: 1.1063 - accuracy: 0.5969\n",
      "Epoch 21/50\n",
      "1563/1563 [==============================] - 8s 5ms/step - loss: 1.0794 - accuracy: 0.6081\n",
      "Epoch 22/50\n",
      "1563/1563 [==============================] - 8s 5ms/step - loss: 1.0517 - accuracy: 0.6171\n",
      "Epoch 23/50\n",
      "1563/1563 [==============================] - 8s 5ms/step - loss: 1.0438 - accuracy: 0.6229\n",
      "Epoch 24/50\n",
      "1563/1563 [==============================] - 8s 5ms/step - loss: 1.0080 - accuracy: 0.6332\n",
      "Epoch 25/50\n",
      "1563/1563 [==============================] - 8s 5ms/step - loss: 0.9909 - accuracy: 0.6417\n",
      "Epoch 26/50\n",
      "1563/1563 [==============================] - 8s 5ms/step - loss: 0.9583 - accuracy: 0.6503\n",
      "Epoch 27/50\n",
      "1563/1563 [==============================] - 8s 5ms/step - loss: 0.9397 - accuracy: 0.6585\n",
      "Epoch 28/50\n",
      "1563/1563 [==============================] - 8s 5ms/step - loss: 0.9213 - accuracy: 0.6651\n",
      "Epoch 29/50\n",
      "1563/1563 [==============================] - 8s 5ms/step - loss: 0.8930 - accuracy: 0.6782\n",
      "Epoch 30/50\n",
      "1563/1563 [==============================] - 8s 5ms/step - loss: 0.8808 - accuracy: 0.6790\n",
      "Epoch 31/50\n",
      "1563/1563 [==============================] - 8s 5ms/step - loss: 0.8654 - accuracy: 0.6867\n",
      "Epoch 32/50\n",
      "1563/1563 [==============================] - 8s 5ms/step - loss: 0.8489 - accuracy: 0.6922\n",
      "Epoch 33/50\n",
      "1563/1563 [==============================] - 8s 5ms/step - loss: 0.8390 - accuracy: 0.6974\n",
      "Epoch 34/50\n",
      "1563/1563 [==============================] - 8s 5ms/step - loss: 0.8036 - accuracy: 0.7077\n",
      "Epoch 35/50\n",
      "1563/1563 [==============================] - 8s 5ms/step - loss: 0.7951 - accuracy: 0.7133\n",
      "Epoch 36/50\n",
      "1563/1563 [==============================] - 8s 5ms/step - loss: 0.7805 - accuracy: 0.7173\n",
      "Epoch 37/50\n",
      "1563/1563 [==============================] - 8s 5ms/step - loss: 0.7676 - accuracy: 0.7216\n",
      "Epoch 38/50\n",
      "1563/1563 [==============================] - 8s 5ms/step - loss: 0.7546 - accuracy: 0.7296\n",
      "Epoch 39/50\n",
      "1563/1563 [==============================] - 8s 5ms/step - loss: 0.7379 - accuracy: 0.7315\n",
      "Epoch 40/50\n",
      "1563/1563 [==============================] - 8s 5ms/step - loss: 0.7192 - accuracy: 0.7398\n",
      "Epoch 41/50\n",
      "1563/1563 [==============================] - 8s 5ms/step - loss: 0.7138 - accuracy: 0.7429\n",
      "Epoch 42/50\n",
      "1563/1563 [==============================] - 8s 5ms/step - loss: 0.7028 - accuracy: 0.7451\n",
      "Epoch 43/50\n",
      "1563/1563 [==============================] - 8s 5ms/step - loss: 0.7115 - accuracy: 0.7436\n",
      "Epoch 44/50\n",
      "1563/1563 [==============================] - 8s 5ms/step - loss: 0.6727 - accuracy: 0.7569\n",
      "Epoch 45/50\n",
      "1563/1563 [==============================] - 8s 5ms/step - loss: 0.6729 - accuracy: 0.7583\n",
      "Epoch 46/50\n",
      "1563/1563 [==============================] - 8s 5ms/step - loss: 0.6568 - accuracy: 0.7626\n",
      "Epoch 47/50\n",
      "1563/1563 [==============================] - 8s 5ms/step - loss: 0.6509 - accuracy: 0.7649\n",
      "Epoch 48/50\n",
      "1563/1563 [==============================] - 8s 5ms/step - loss: 0.6443 - accuracy: 0.7688\n",
      "Epoch 49/50\n",
      "1563/1563 [==============================] - 8s 5ms/step - loss: 0.6334 - accuracy: 0.7716\n",
      "Epoch 50/50\n",
      "1563/1563 [==============================] - 8s 5ms/step - loss: 0.6233 - accuracy: 0.7769\n"
     ]
    },
    {
     "data": {
      "text/plain": [
       "<keras.callbacks.History at 0x230a3b85340>"
      ]
     },
     "execution_count": 5,
     "metadata": {},
     "output_type": "execute_result"
    }
   ],
   "source": [
    "y_train_cate = keras.utils.to_categorical(\n",
    "    y_train,num_classes=10,dtype='float32'\n",
    ")\n",
    "\n",
    "model = keras.Sequential([ \n",
    "    keras.layers.Flatten(input_shape=(32,32,3)),     #32 * 32 sized figure with 3 rgb channel\n",
    "    keras.layers.Dense(2000,activation='relu'),\n",
    "    keras.layers.Dense(1000,activation='relu'),\n",
    "    keras.layers.Dense(500,activation='relu'),\n",
    "    keras.layers.Dense(10,activation='softmax'),\n",
    "])\n",
    "\n",
    "model.compile(\n",
    "    optimizer='Adam',\n",
    "    loss='categorical_crossentropy',\n",
    "    #you can use loss as categorical crossentropy loss function but them the y_train should be hot encoded\n",
    "    metrics=['accuracy'],\n",
    ")\n",
    "\n",
    "model.fit(x_train_scaled,y_train_cate,epochs=50)"
   ]
  },
  {
   "cell_type": "code",
   "execution_count": 6,
   "metadata": {},
   "outputs": [
    {
     "name": "stdout",
     "output_type": "stream",
     "text": [
      "313/313 [==============================] - 1s 4ms/step - loss: 2.9124 - accuracy: 0.4646\n"
     ]
    },
    {
     "data": {
      "text/plain": [
       "[2.9123637676239014, 0.46459999680519104]"
      ]
     },
     "execution_count": 6,
     "metadata": {},
     "output_type": "execute_result"
    }
   ],
   "source": [
    "#EVALUATION\n",
    "y_test_cate = keras.utils.to_categorical(\n",
    "    y_test,num_classes=10,dtype='float32'\n",
    ")\n",
    "\n",
    "model.evaluate(x_test_scaled,y_test_cate)"
   ]
  }
 ],
 "metadata": {
  "interpreter": {
   "hash": "6a60c7c0bbb9bc49c8f38655c364c79f9d895feb50eef24a1951784535a81066"
  },
  "kernelspec": {
   "display_name": "Python 3.9.7 64-bit",
   "name": "python3"
  },
  "language_info": {
   "codemirror_mode": {
    "name": "ipython",
    "version": 3
   },
   "file_extension": ".py",
   "mimetype": "text/x-python",
   "name": "python",
   "nbconvert_exporter": "python",
   "pygments_lexer": "ipython3",
   "version": "3.9.7"
  },
  "orig_nbformat": 4
 },
 "nbformat": 4,
 "nbformat_minor": 2
}
