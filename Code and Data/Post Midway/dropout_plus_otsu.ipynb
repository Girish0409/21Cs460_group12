{
 "cells": [
  {
   "cell_type": "code",
   "execution_count": 1,
   "metadata": {},
   "outputs": [],
   "source": [
    "#NO REGULARISATION\n",
    "import tensorflow as tf\n",
    "import matplotlib.pyplot as plt\n",
    "from tensorflow import keras\n",
    "import numpy as np\n",
    "from sklearn.utils import shuffle\n",
    "import pandas as pd \n",
    "from skimage.io import imread, imshow\n",
    "from skimage.transform import rescale\n",
    "from os import listdir\n",
    "from sklearn.model_selection import train_test_split as tts\n",
    "from skimage.color import rgb2hsv\n",
    "from skimage.filters import threshold_otsu\n",
    "from os import listdir\n",
    "import pickle"
   ]
  },
  {
   "cell_type": "code",
   "execution_count": 2,
   "metadata": {},
   "outputs": [
    {
     "data": {
      "text/plain": [
       "[PhysicalDevice(name='/physical_device:CPU:0', device_type='CPU'),\n",
       " PhysicalDevice(name='/physical_device:GPU:0', device_type='GPU')]"
      ]
     },
     "execution_count": 2,
     "metadata": {},
     "output_type": "execute_result"
    }
   ],
   "source": [
    " tf.config.list_physical_devices()"
   ]
  },
  {
   "cell_type": "code",
   "execution_count": 3,
   "metadata": {},
   "outputs": [],
   "source": [
    "with open('otsudataX','rb') as f:\n",
    "    X = pickle.load(f)\n",
    "\n",
    "with open('otsudataY','rb') as g:\n",
    "    Y = pickle.load(g)\n"
   ]
  },
  {
   "cell_type": "code",
   "execution_count": 4,
   "metadata": {},
   "outputs": [],
   "source": [
    "X_train, X_test, y_train, y_test = tts(X, Y, test_size=0.33)"
   ]
  },
  {
   "cell_type": "code",
   "execution_count": 5,
   "metadata": {},
   "outputs": [
    {
     "data": {
      "text/plain": [
       "array([0, 2, 3, 1, 2, 2, 1, 0, 3, 0, 0, 3, 1, 1, 2, 3, 0, 2, 1, 3])"
      ]
     },
     "execution_count": 5,
     "metadata": {},
     "output_type": "execute_result"
    }
   ],
   "source": [
    "X_train = X_train.reshape(6671,120,160,1)\n",
    "X_train.shape\n",
    "y_train[0:20]"
   ]
  },
  {
   "cell_type": "code",
   "execution_count": 6,
   "metadata": {},
   "outputs": [
    {
     "data": {
      "text/plain": [
       "array([[1., 0., 0., 0.],\n",
       "       [0., 0., 1., 0.],\n",
       "       [0., 0., 0., 1.],\n",
       "       [0., 1., 0., 0.],\n",
       "       [0., 0., 1., 0.],\n",
       "       [0., 0., 1., 0.],\n",
       "       [0., 1., 0., 0.],\n",
       "       [1., 0., 0., 0.],\n",
       "       [0., 0., 0., 1.],\n",
       "       [1., 0., 0., 0.]], dtype=float32)"
      ]
     },
     "execution_count": 6,
     "metadata": {},
     "output_type": "execute_result"
    }
   ],
   "source": [
    "y_train_cate = keras.utils.to_categorical(\n",
    "    y_train,num_classes=4,dtype='float32'\n",
    ")\n",
    "\n",
    "y_train_cate[0:10]"
   ]
  },
  {
   "cell_type": "code",
   "execution_count": 7,
   "metadata": {},
   "outputs": [
    {
     "name": "stdout",
     "output_type": "stream",
     "text": [
      "Epoch 1/90\n",
      "209/209 [==============================] - 13s 19ms/step - loss: 1.3817 - accuracy: 0.2587\n",
      "Epoch 2/90\n",
      "209/209 [==============================] - 4s 18ms/step - loss: 1.2255 - accuracy: 0.4127\n",
      "Epoch 3/90\n",
      "209/209 [==============================] - 5s 22ms/step - loss: 1.0979 - accuracy: 0.4816\n",
      "Epoch 4/90\n",
      "209/209 [==============================] - 5s 26ms/step - loss: 1.0296 - accuracy: 0.5148\n",
      "Epoch 5/90\n",
      "209/209 [==============================] - 5s 26ms/step - loss: 0.9778 - accuracy: 0.5423\n",
      "Epoch 6/90\n",
      "209/209 [==============================] - 5s 26ms/step - loss: 0.9569 - accuracy: 0.5464\n",
      "Epoch 7/90\n",
      "209/209 [==============================] - 5s 26ms/step - loss: 0.9135 - accuracy: 0.5684\n",
      "Epoch 8/90\n",
      "209/209 [==============================] - 6s 27ms/step - loss: 0.8850 - accuracy: 0.5782\n",
      "Epoch 9/90\n",
      "209/209 [==============================] - 6s 30ms/step - loss: 0.8445 - accuracy: 0.5995\n",
      "Epoch 10/90\n",
      "209/209 [==============================] - 6s 27ms/step - loss: 0.8302 - accuracy: 0.6050\n",
      "Epoch 11/90\n",
      "209/209 [==============================] - 6s 29ms/step - loss: 0.7931 - accuracy: 0.6236\n",
      "Epoch 12/90\n",
      "209/209 [==============================] - 7s 32ms/step - loss: 0.7787 - accuracy: 0.6239\n",
      "Epoch 13/90\n",
      "209/209 [==============================] - 6s 28ms/step - loss: 0.7535 - accuracy: 0.6393\n",
      "Epoch 14/90\n",
      "209/209 [==============================] - 6s 27ms/step - loss: 0.7396 - accuracy: 0.6467\n",
      "Epoch 15/90\n",
      "209/209 [==============================] - 6s 27ms/step - loss: 0.7277 - accuracy: 0.6476\n",
      "Epoch 16/90\n",
      "209/209 [==============================] - 5s 26ms/step - loss: 0.7031 - accuracy: 0.6621\n",
      "Epoch 17/90\n",
      "209/209 [==============================] - 6s 27ms/step - loss: 0.6916 - accuracy: 0.6656\n",
      "Epoch 18/90\n",
      "209/209 [==============================] - 6s 26ms/step - loss: 0.6837 - accuracy: 0.6720\n",
      "Epoch 19/90\n",
      "209/209 [==============================] - 6s 28ms/step - loss: 0.6848 - accuracy: 0.6791\n",
      "Epoch 20/90\n",
      "209/209 [==============================] - 5s 26ms/step - loss: 0.6621 - accuracy: 0.6783\n",
      "Epoch 21/90\n",
      "209/209 [==============================] - 6s 27ms/step - loss: 0.6534 - accuracy: 0.6852\n",
      "Epoch 22/90\n",
      "209/209 [==============================] - 6s 27ms/step - loss: 0.6524 - accuracy: 0.6845\n",
      "Epoch 23/90\n",
      "209/209 [==============================] - 5s 26ms/step - loss: 0.6401 - accuracy: 0.6878\n",
      "Epoch 24/90\n",
      "209/209 [==============================] - 6s 26ms/step - loss: 0.6403 - accuracy: 0.6951\n",
      "Epoch 25/90\n",
      "209/209 [==============================] - 6s 28ms/step - loss: 0.6238 - accuracy: 0.6987\n",
      "Epoch 26/90\n",
      "209/209 [==============================] - 7s 31ms/step - loss: 0.6302 - accuracy: 0.7012\n",
      "Epoch 27/90\n",
      "209/209 [==============================] - 7s 32ms/step - loss: 0.6184 - accuracy: 0.7047\n",
      "Epoch 28/90\n",
      "209/209 [==============================] - 6s 28ms/step - loss: 0.6111 - accuracy: 0.7074\n",
      "Epoch 29/90\n",
      "209/209 [==============================] - 5s 26ms/step - loss: 0.6040 - accuracy: 0.7143\n",
      "Epoch 30/90\n",
      "209/209 [==============================] - 6s 27ms/step - loss: 0.5912 - accuracy: 0.7191\n",
      "Epoch 31/90\n",
      "209/209 [==============================] - 5s 26ms/step - loss: 0.5878 - accuracy: 0.7204\n",
      "Epoch 32/90\n",
      "209/209 [==============================] - 5s 26ms/step - loss: 0.5947 - accuracy: 0.7146\n",
      "Epoch 33/90\n",
      "209/209 [==============================] - 6s 27ms/step - loss: 0.5856 - accuracy: 0.7212\n",
      "Epoch 34/90\n",
      "209/209 [==============================] - 5s 26ms/step - loss: 0.5720 - accuracy: 0.7255\n",
      "Epoch 35/90\n",
      "209/209 [==============================] - 5s 26ms/step - loss: 0.5744 - accuracy: 0.7294\n",
      "Epoch 36/90\n",
      "209/209 [==============================] - 5s 26ms/step - loss: 0.5717 - accuracy: 0.7275\n",
      "Epoch 37/90\n",
      "209/209 [==============================] - 5s 26ms/step - loss: 0.5536 - accuracy: 0.7369\n",
      "Epoch 38/90\n",
      "209/209 [==============================] - 6s 27ms/step - loss: 0.5586 - accuracy: 0.7338\n",
      "Epoch 39/90\n",
      "209/209 [==============================] - 6s 27ms/step - loss: 0.5557 - accuracy: 0.7377\n",
      "Epoch 40/90\n",
      "209/209 [==============================] - 6s 27ms/step - loss: 0.5538 - accuracy: 0.7404\n",
      "Epoch 41/90\n",
      "209/209 [==============================] - 6s 27ms/step - loss: 0.5390 - accuracy: 0.7453\n",
      "Epoch 42/90\n",
      "209/209 [==============================] - 6s 27ms/step - loss: 0.5316 - accuracy: 0.7452\n",
      "Epoch 43/90\n",
      "209/209 [==============================] - 6s 27ms/step - loss: 0.5417 - accuracy: 0.7461\n",
      "Epoch 44/90\n",
      "209/209 [==============================] - 6s 30ms/step - loss: 0.5370 - accuracy: 0.7467\n",
      "Epoch 45/90\n",
      "209/209 [==============================] - 6s 27ms/step - loss: 0.5275 - accuracy: 0.7498\n",
      "Epoch 46/90\n",
      "209/209 [==============================] - 6s 26ms/step - loss: 0.5290 - accuracy: 0.7512\n",
      "Epoch 47/90\n",
      "209/209 [==============================] - 5s 26ms/step - loss: 0.5277 - accuracy: 0.7527\n",
      "Epoch 48/90\n",
      "209/209 [==============================] - 6s 28ms/step - loss: 0.5062 - accuracy: 0.7626\n",
      "Epoch 49/90\n",
      "209/209 [==============================] - 6s 28ms/step - loss: 0.5216 - accuracy: 0.7560\n",
      "Epoch 50/90\n",
      "209/209 [==============================] - 5s 26ms/step - loss: 0.5099 - accuracy: 0.7660\n",
      "Epoch 51/90\n",
      "209/209 [==============================] - 6s 29ms/step - loss: 0.5021 - accuracy: 0.7672\n",
      "Epoch 52/90\n",
      "209/209 [==============================] - 5s 26ms/step - loss: 0.5162 - accuracy: 0.7641\n",
      "Epoch 53/90\n",
      "209/209 [==============================] - 6s 29ms/step - loss: 0.4938 - accuracy: 0.7736\n",
      "Epoch 54/90\n",
      "209/209 [==============================] - 6s 27ms/step - loss: 0.4914 - accuracy: 0.7802\n",
      "Epoch 55/90\n",
      "209/209 [==============================] - 6s 26ms/step - loss: 0.4980 - accuracy: 0.7718\n",
      "Epoch 56/90\n",
      "209/209 [==============================] - 6s 27ms/step - loss: 0.4780 - accuracy: 0.7870\n",
      "Epoch 57/90\n",
      "209/209 [==============================] - 5s 26ms/step - loss: 0.4877 - accuracy: 0.7787\n",
      "Epoch 58/90\n",
      "209/209 [==============================] - 6s 29ms/step - loss: 0.4850 - accuracy: 0.7816\n",
      "Epoch 59/90\n",
      "209/209 [==============================] - 6s 27ms/step - loss: 0.4780 - accuracy: 0.7852\n",
      "Epoch 60/90\n",
      "209/209 [==============================] - 5s 26ms/step - loss: 0.4799 - accuracy: 0.7841\n",
      "Epoch 61/90\n",
      "209/209 [==============================] - 6s 28ms/step - loss: 0.4670 - accuracy: 0.7940\n",
      "Epoch 62/90\n",
      "209/209 [==============================] - 6s 30ms/step - loss: 0.4691 - accuracy: 0.7895\n",
      "Epoch 63/90\n",
      "209/209 [==============================] - 5s 26ms/step - loss: 0.4546 - accuracy: 0.7943\n",
      "Epoch 64/90\n",
      "209/209 [==============================] - 5s 26ms/step - loss: 0.4550 - accuracy: 0.8020\n",
      "Epoch 65/90\n",
      "209/209 [==============================] - 6s 27ms/step - loss: 0.4584 - accuracy: 0.7958\n",
      "Epoch 66/90\n",
      "209/209 [==============================] - 5s 26ms/step - loss: 0.4580 - accuracy: 0.7924\n",
      "Epoch 67/90\n",
      "209/209 [==============================] - 6s 27ms/step - loss: 0.4404 - accuracy: 0.8041\n",
      "Epoch 68/90\n",
      "209/209 [==============================] - 6s 28ms/step - loss: 0.4414 - accuracy: 0.8074\n",
      "Epoch 69/90\n",
      "209/209 [==============================] - 6s 27ms/step - loss: 0.4400 - accuracy: 0.8017\n",
      "Epoch 70/90\n",
      "209/209 [==============================] - 6s 27ms/step - loss: 0.4392 - accuracy: 0.8068\n",
      "Epoch 71/90\n",
      "209/209 [==============================] - 6s 28ms/step - loss: 0.4307 - accuracy: 0.8107\n",
      "Epoch 72/90\n",
      "209/209 [==============================] - 6s 27ms/step - loss: 0.4376 - accuracy: 0.8089\n",
      "Epoch 73/90\n",
      "209/209 [==============================] - 6s 30ms/step - loss: 0.4332 - accuracy: 0.8119\n",
      "Epoch 74/90\n",
      "209/209 [==============================] - 5s 26ms/step - loss: 0.4291 - accuracy: 0.8069\n",
      "Epoch 75/90\n",
      "209/209 [==============================] - 6s 26ms/step - loss: 0.4306 - accuracy: 0.8135\n",
      "Epoch 76/90\n",
      "209/209 [==============================] - 6s 27ms/step - loss: 0.4222 - accuracy: 0.8158\n",
      "Epoch 77/90\n",
      "209/209 [==============================] - 5s 26ms/step - loss: 0.4263 - accuracy: 0.8150\n",
      "Epoch 78/90\n",
      "209/209 [==============================] - 5s 26ms/step - loss: 0.4169 - accuracy: 0.8194\n",
      "Epoch 79/90\n",
      "209/209 [==============================] - 5s 26ms/step - loss: 0.4170 - accuracy: 0.8195\n",
      "Epoch 80/90\n",
      "209/209 [==============================] - 5s 26ms/step - loss: 0.4094 - accuracy: 0.8245\n",
      "Epoch 81/90\n",
      "209/209 [==============================] - 5s 26ms/step - loss: 0.4046 - accuracy: 0.8221\n",
      "Epoch 82/90\n",
      "209/209 [==============================] - 5s 26ms/step - loss: 0.4225 - accuracy: 0.8158\n",
      "Epoch 83/90\n",
      "209/209 [==============================] - 5s 26ms/step - loss: 0.4092 - accuracy: 0.8237\n",
      "Epoch 84/90\n",
      "209/209 [==============================] - 6s 27ms/step - loss: 0.4151 - accuracy: 0.8195\n",
      "Epoch 85/90\n",
      "209/209 [==============================] - 6s 26ms/step - loss: 0.4117 - accuracy: 0.8177\n",
      "Epoch 86/90\n",
      "209/209 [==============================] - 6s 28ms/step - loss: 0.4006 - accuracy: 0.8266\n",
      "Epoch 87/90\n",
      "209/209 [==============================] - 5s 26ms/step - loss: 0.3954 - accuracy: 0.8315\n",
      "Epoch 88/90\n",
      "209/209 [==============================] - 6s 29ms/step - loss: 0.3965 - accuracy: 0.8300\n",
      "Epoch 89/90\n",
      "209/209 [==============================] - 6s 27ms/step - loss: 0.3815 - accuracy: 0.8335\n",
      "Epoch 90/90\n",
      "209/209 [==============================] - 5s 26ms/step - loss: 0.3801 - accuracy: 0.8360\n"
     ]
    },
    {
     "data": {
      "text/plain": [
       "<keras.callbacks.History at 0x2014fb73820>"
      ]
     },
     "execution_count": 7,
     "metadata": {},
     "output_type": "execute_result"
    }
   ],
   "source": [
    "model = keras.Sequential([\n",
    "    #cnn layers\n",
    "    keras.layers.Conv2D(filters=32,kernel_size=(3, 3),activation='relu',input_shape=(120,160,1)),\n",
    "    keras.layers.MaxPooling2D((2,2)),\n",
    "\n",
    "    keras.layers.Conv2D(filters=32,kernel_size=(3, 3),activation='relu'),\n",
    "    keras.layers.MaxPooling2D((2,2)),\n",
    "\n",
    "    keras.layers.Conv2D(filters=32,kernel_size=(3, 3),activation='relu'),\n",
    "    keras.layers.MaxPooling2D((2,2)),\n",
    "\n",
    "    keras.layers.Conv2D(filters=64,kernel_size=(3, 3),activation='relu'),\n",
    "    keras.layers.MaxPooling2D((2,2)),\n",
    "\n",
    "    #dense normal ann\n",
    "    keras.layers.Flatten(), \n",
    "    keras.layers.Dropout(0.78),   \n",
    "    keras.layers.Dense(90,activation='relu'),\n",
    "    keras.layers.Dense(60,activation='relu'),\n",
    "    keras.layers.Dense(30,activation='relu'),\n",
    "    keras.layers.Dense(10,activation='relu'),\n",
    "    \n",
    "    keras.layers.Dense(4,activation='softmax'),\n",
    "    #softmax normalises the probability of the output set\n",
    "])\n",
    "\n",
    "model.compile(\n",
    "    optimizer='adam',\n",
    "    loss = 'categorical_crossentropy',\n",
    "    metrics=['accuracy']\n",
    ")\n",
    "\n",
    "model.fit(X_train,y_train_cate,epochs=90)"
   ]
  },
  {
   "cell_type": "code",
   "execution_count": 8,
   "metadata": {},
   "outputs": [],
   "source": [
    "X_test = X_test.reshape(3286,120,160,1)\n",
    "y_test_cate = keras.utils.to_categorical(\n",
    "    y_test,num_classes=4,dtype='float32'\n",
    ")"
   ]
  },
  {
   "cell_type": "code",
   "execution_count": 9,
   "metadata": {},
   "outputs": [
    {
     "name": "stdout",
     "output_type": "stream",
     "text": [
      "103/103 [==============================] - 2s 14ms/step - loss: 0.6732 - accuracy: 0.7432\n"
     ]
    },
    {
     "data": {
      "text/plain": [
       "[0.6731948852539062, 0.7431527972221375]"
      ]
     },
     "execution_count": 9,
     "metadata": {},
     "output_type": "execute_result"
    }
   ],
   "source": [
    "model.evaluate(X_test,y_test_cate)"
   ]
  },
  {
   "cell_type": "code",
   "execution_count": 10,
   "metadata": {},
   "outputs": [],
   "source": [
    "yprob = model.predict(X_test)"
   ]
  },
  {
   "cell_type": "code",
   "execution_count": 11,
   "metadata": {},
   "outputs": [],
   "source": [
    "yprobcl = [np.argmax(i) for i in yprob]"
   ]
  },
  {
   "cell_type": "code",
   "execution_count": 12,
   "metadata": {},
   "outputs": [
    {
     "data": {
      "text/plain": [
       "[1, 0, 1, 0, 1, 3, 1, 1, 3, 0]"
      ]
     },
     "execution_count": 12,
     "metadata": {},
     "output_type": "execute_result"
    }
   ],
   "source": [
    "yprobcl[0:10]"
   ]
  },
  {
   "cell_type": "code",
   "execution_count": 13,
   "metadata": {},
   "outputs": [
    {
     "data": {
      "text/plain": [
       "array([0, 2, 1, 0, 1, 0, 1, 1, 2, 0])"
      ]
     },
     "execution_count": 13,
     "metadata": {},
     "output_type": "execute_result"
    }
   ],
   "source": [
    "y_test[0:10]"
   ]
  },
  {
   "cell_type": "code",
   "execution_count": 14,
   "metadata": {},
   "outputs": [],
   "source": [
    "from sklearn.metrics import accuracy_score"
   ]
  },
  {
   "cell_type": "code",
   "execution_count": 15,
   "metadata": {},
   "outputs": [
    {
     "data": {
      "text/plain": [
       "0.7431527693244065"
      ]
     },
     "execution_count": 15,
     "metadata": {},
     "output_type": "execute_result"
    }
   ],
   "source": [
    "accuracy_score(y_test,yprobcl)"
   ]
  },
  {
   "cell_type": "code",
   "execution_count": 16,
   "metadata": {},
   "outputs": [],
   "source": [
    "from sklearn.metrics import confusion_matrix"
   ]
  },
  {
   "cell_type": "code",
   "execution_count": 18,
   "metadata": {},
   "outputs": [
    {
     "data": {
      "text/html": [
       "<div>\n",
       "<style scoped>\n",
       "    .dataframe tbody tr th:only-of-type {\n",
       "        vertical-align: middle;\n",
       "    }\n",
       "\n",
       "    .dataframe tbody tr th {\n",
       "        vertical-align: top;\n",
       "    }\n",
       "\n",
       "    .dataframe thead th {\n",
       "        text-align: right;\n",
       "    }\n",
       "</style>\n",
       "<table border=\"1\" class=\"dataframe\">\n",
       "  <thead>\n",
       "    <tr style=\"text-align: right;\">\n",
       "      <th></th>\n",
       "      <th>Predicted 0</th>\n",
       "      <th>Predicted 1</th>\n",
       "      <th>Predicted 2</th>\n",
       "      <th>Predicted 3</th>\n",
       "    </tr>\n",
       "  </thead>\n",
       "  <tbody>\n",
       "    <tr>\n",
       "      <th>Actual 0</th>\n",
       "      <td>481</td>\n",
       "      <td>24</td>\n",
       "      <td>99</td>\n",
       "      <td>239</td>\n",
       "    </tr>\n",
       "    <tr>\n",
       "      <th>Actual 1</th>\n",
       "      <td>43</td>\n",
       "      <td>663</td>\n",
       "      <td>67</td>\n",
       "      <td>25</td>\n",
       "    </tr>\n",
       "    <tr>\n",
       "      <th>Actual 2</th>\n",
       "      <td>44</td>\n",
       "      <td>15</td>\n",
       "      <td>740</td>\n",
       "      <td>43</td>\n",
       "    </tr>\n",
       "    <tr>\n",
       "      <th>Actual 3</th>\n",
       "      <td>161</td>\n",
       "      <td>21</td>\n",
       "      <td>63</td>\n",
       "      <td>558</td>\n",
       "    </tr>\n",
       "  </tbody>\n",
       "</table>\n",
       "</div>"
      ],
      "text/plain": [
       "          Predicted 0  Predicted 1  Predicted 2  Predicted 3\n",
       "Actual 0          481           24           99          239\n",
       "Actual 1           43          663           67           25\n",
       "Actual 2           44           15          740           43\n",
       "Actual 3          161           21           63          558"
      ]
     },
     "execution_count": 18,
     "metadata": {},
     "output_type": "execute_result"
    }
   ],
   "source": [
    "from sklearn.utils.multiclass import unique_labels\n",
    "def plot(y_true,y_pred):    \n",
    "    column = [f'Predicted {label}' for label in unique_labels(y_true)]\n",
    "    indexx = [f'Actual {label}' for label in unique_labels(y_true)]\n",
    "    table = pd.DataFrame(confusion_matrix(y_true,y_pred),columns=column,index=indexx)\n",
    "    return table\n",
    "\n",
    "plot(y_test,yprobcl)"
   ]
  },
  {
   "cell_type": "code",
   "execution_count": null,
   "metadata": {},
   "outputs": [],
   "source": []
  }
 ],
 "metadata": {
  "interpreter": {
   "hash": "6a60c7c0bbb9bc49c8f38655c364c79f9d895feb50eef24a1951784535a81066"
  },
  "kernelspec": {
   "display_name": "Python 3.9.7 64-bit",
   "name": "python3"
  },
  "language_info": {
   "codemirror_mode": {
    "name": "ipython",
    "version": 3
   },
   "file_extension": ".py",
   "mimetype": "text/x-python",
   "name": "python",
   "nbconvert_exporter": "python",
   "pygments_lexer": "ipython3",
   "version": "3.9.7"
  },
  "orig_nbformat": 4
 },
 "nbformat": 4,
 "nbformat_minor": 2
}
