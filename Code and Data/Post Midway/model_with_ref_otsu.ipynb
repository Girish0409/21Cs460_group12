{
 "cells": [
  {
   "cell_type": "code",
   "execution_count": 2,
   "metadata": {},
   "outputs": [],
   "source": [
    "#NO REGULARISATION\n",
    "import tensorflow as tf\n",
    "import matplotlib.pyplot as plt\n",
    "from tensorflow import keras\n",
    "import numpy as np\n",
    "from sklearn.utils import shuffle\n",
    "import pandas as pd \n",
    "from skimage.io import imread, imshow\n",
    "from skimage.transform import rescale\n",
    "from os import listdir\n",
    "from sklearn.model_selection import train_test_split as tts\n",
    "from skimage.color import rgb2hsv\n",
    "from skimage.filters import threshold_otsu\n",
    "from os import listdir\n",
    "import pickle"
   ]
  },
  {
   "cell_type": "code",
   "execution_count": 3,
   "metadata": {},
   "outputs": [
    {
     "data": {
      "text/plain": [
       "[PhysicalDevice(name='/physical_device:CPU:0', device_type='CPU'),\n",
       " PhysicalDevice(name='/physical_device:GPU:0', device_type='GPU')]"
      ]
     },
     "execution_count": 3,
     "metadata": {},
     "output_type": "execute_result"
    }
   ],
   "source": [
    "tf.config.list_physical_devices()"
   ]
  },
  {
   "cell_type": "code",
   "execution_count": 4,
   "metadata": {},
   "outputs": [],
   "source": [
    "with open('refotsudataX','rb') as f:\n",
    "    X = pickle.load(f)\n",
    "\n",
    "with open('refotsudataY','rb') as g:\n",
    "    Y = pickle.load(g)\n"
   ]
  },
  {
   "cell_type": "code",
   "execution_count": 5,
   "metadata": {},
   "outputs": [],
   "source": [
    "X_train, X_test, y_train, y_test = tts(X, Y, test_size=0.33)"
   ]
  },
  {
   "cell_type": "code",
   "execution_count": 6,
   "metadata": {},
   "outputs": [
    {
     "data": {
      "text/plain": [
       "(6671, 120, 160, 1)"
      ]
     },
     "execution_count": 6,
     "metadata": {},
     "output_type": "execute_result"
    }
   ],
   "source": [
    "X_train = X_train.reshape(6671,120,160,1)\n",
    "X_train.shape\n",
    "# y_train[0:20]"
   ]
  },
  {
   "cell_type": "code",
   "execution_count": 7,
   "metadata": {},
   "outputs": [
    {
     "data": {
      "text/plain": [
       "array([[0., 0., 0., 1.],\n",
       "       [0., 1., 0., 0.],\n",
       "       [0., 1., 0., 0.],\n",
       "       [1., 0., 0., 0.],\n",
       "       [0., 1., 0., 0.],\n",
       "       [0., 0., 0., 1.],\n",
       "       [0., 0., 0., 1.],\n",
       "       [0., 0., 0., 1.],\n",
       "       [0., 0., 1., 0.],\n",
       "       [0., 0., 1., 0.]], dtype=float32)"
      ]
     },
     "execution_count": 7,
     "metadata": {},
     "output_type": "execute_result"
    }
   ],
   "source": [
    "y_train_cate = keras.utils.to_categorical(\n",
    "    y_train,num_classes=4,dtype='float32'\n",
    ")\n",
    "\n",
    "y_train_cate[0:10]"
   ]
  },
  {
   "cell_type": "code",
   "execution_count": 9,
   "metadata": {},
   "outputs": [
    {
     "name": "stdout",
     "output_type": "stream",
     "text": [
      "Epoch 1/30\n",
      "209/209 [==============================] - 6s 26ms/step - loss: 1.3601 - accuracy: 0.3158\n",
      "Epoch 2/30\n",
      "209/209 [==============================] - 5s 26ms/step - loss: 1.0870 - accuracy: 0.5259\n",
      "Epoch 3/30\n",
      "209/209 [==============================] - 5s 26ms/step - loss: 0.8360 - accuracy: 0.6255\n",
      "Epoch 4/30\n",
      "209/209 [==============================] - 5s 26ms/step - loss: 0.7132 - accuracy: 0.6806\n",
      "Epoch 5/30\n",
      "209/209 [==============================] - 5s 26ms/step - loss: 0.6314 - accuracy: 0.7191\n",
      "Epoch 6/30\n",
      "209/209 [==============================] - 5s 26ms/step - loss: 0.5548 - accuracy: 0.7579\n",
      "Epoch 7/30\n",
      "209/209 [==============================] - 5s 26ms/step - loss: 0.4939 - accuracy: 0.7906\n",
      "Epoch 8/30\n",
      "209/209 [==============================] - 5s 26ms/step - loss: 0.4076 - accuracy: 0.8227\n",
      "Epoch 9/30\n",
      "209/209 [==============================] - 5s 26ms/step - loss: 0.3595 - accuracy: 0.8492\n",
      "Epoch 10/30\n",
      "209/209 [==============================] - 5s 26ms/step - loss: 0.3358 - accuracy: 0.8652\n",
      "Epoch 11/30\n",
      "209/209 [==============================] - 5s 26ms/step - loss: 0.2700 - accuracy: 0.8895\n",
      "Epoch 12/30\n",
      "209/209 [==============================] - 5s 26ms/step - loss: 0.2300 - accuracy: 0.9044\n",
      "Epoch 13/30\n",
      "209/209 [==============================] - 5s 26ms/step - loss: 0.2186 - accuracy: 0.9156\n",
      "Epoch 14/30\n",
      "209/209 [==============================] - 5s 26ms/step - loss: 0.1770 - accuracy: 0.9292\n",
      "Epoch 15/30\n",
      "209/209 [==============================] - 5s 26ms/step - loss: 0.1570 - accuracy: 0.9348\n",
      "Epoch 16/30\n",
      "209/209 [==============================] - 5s 26ms/step - loss: 0.1577 - accuracy: 0.9453\n",
      "Epoch 17/30\n",
      "209/209 [==============================] - 5s 26ms/step - loss: 0.1510 - accuracy: 0.9432\n",
      "Epoch 18/30\n",
      "209/209 [==============================] - 5s 26ms/step - loss: 0.0999 - accuracy: 0.9615\n",
      "Epoch 19/30\n",
      "209/209 [==============================] - 5s 26ms/step - loss: 0.0757 - accuracy: 0.9730\n",
      "Epoch 20/30\n",
      "209/209 [==============================] - 5s 26ms/step - loss: 0.0980 - accuracy: 0.9661\n",
      "Epoch 21/30\n",
      "209/209 [==============================] - 5s 26ms/step - loss: 0.1284 - accuracy: 0.9570\n",
      "Epoch 22/30\n",
      "209/209 [==============================] - 5s 26ms/step - loss: 0.0938 - accuracy: 0.9658\n",
      "Epoch 23/30\n",
      "209/209 [==============================] - 5s 26ms/step - loss: 0.0720 - accuracy: 0.9757\n",
      "Epoch 24/30\n",
      "209/209 [==============================] - 5s 26ms/step - loss: 0.0381 - accuracy: 0.9855\n",
      "Epoch 25/30\n",
      "209/209 [==============================] - 5s 26ms/step - loss: 0.0353 - accuracy: 0.9861\n",
      "Epoch 26/30\n",
      "209/209 [==============================] - 5s 26ms/step - loss: 0.0372 - accuracy: 0.9861\n",
      "Epoch 27/30\n",
      "209/209 [==============================] - 5s 26ms/step - loss: 0.0941 - accuracy: 0.9687\n",
      "Epoch 28/30\n",
      "209/209 [==============================] - 5s 26ms/step - loss: 0.1053 - accuracy: 0.9631\n",
      "Epoch 29/30\n",
      "209/209 [==============================] - 5s 26ms/step - loss: 0.0645 - accuracy: 0.9777\n",
      "Epoch 30/30\n",
      "209/209 [==============================] - 5s 26ms/step - loss: 0.0335 - accuracy: 0.9874\n"
     ]
    },
    {
     "data": {
      "text/plain": [
       "<keras.callbacks.History at 0x2385fe065b0>"
      ]
     },
     "execution_count": 9,
     "metadata": {},
     "output_type": "execute_result"
    }
   ],
   "source": [
    "model = keras.Sequential([\n",
    "    #cnn layers\n",
    "    keras.layers.Conv2D(filters=32,kernel_size=(3, 3),activation='relu',input_shape=(120,160,1)),\n",
    "    keras.layers.MaxPooling2D((2,2)),\n",
    "\n",
    "    keras.layers.Conv2D(filters=32,kernel_size=(3, 3),activation='relu'),\n",
    "    keras.layers.MaxPooling2D((2,2)),\n",
    "\n",
    "    keras.layers.Conv2D(filters=32,kernel_size=(3, 3),activation='relu'),\n",
    "    keras.layers.MaxPooling2D((2,2)),\n",
    "    \n",
    "    keras.layers.Conv2D(filters=64,kernel_size=(3, 3),activation='relu'),\n",
    "    keras.layers.MaxPooling2D((2,2)),\n",
    "\n",
    "    #dense normal ann\n",
    "    keras.layers.Flatten(), \n",
    "     \n",
    "    keras.layers.Dense(90,activation='relu'),\n",
    "    keras.layers.Dense(60,activation='relu'),\n",
    "    keras.layers.Dense(30,activation='relu'),\n",
    "    keras.layers.Dense(10,activation='relu'),\n",
    "    \n",
    "    keras.layers.Dense(4,activation='softmax'),\n",
    "    #softmax normalises the probability of the output set\n",
    "])\n",
    "\n",
    "model.compile(\n",
    "    optimizer='adam',\n",
    "    loss = 'categorical_crossentropy',\n",
    "    metrics=['accuracy']\n",
    ")\n",
    "\n",
    "model.fit(X_train,y_train_cate,epochs=30)"
   ]
  },
  {
   "cell_type": "code",
   "execution_count": 10,
   "metadata": {},
   "outputs": [
    {
     "name": "stdout",
     "output_type": "stream",
     "text": [
      "103/103 [==============================] - 2s 17ms/step - loss: 2.0337 - accuracy: 0.7246\n"
     ]
    },
    {
     "data": {
      "text/plain": [
       "[2.033726453781128, 0.7245891690254211]"
      ]
     },
     "execution_count": 10,
     "metadata": {},
     "output_type": "execute_result"
    }
   ],
   "source": [
    "X_test = X_test.reshape(3286,120,160,1)\n",
    "y_test_cate = keras.utils.to_categorical(\n",
    "    y_test,num_classes=4,dtype='float32'\n",
    ")\n",
    "\n",
    "model.evaluate(X_test,y_test_cate)"
   ]
  },
  {
   "cell_type": "code",
   "execution_count": 11,
   "metadata": {},
   "outputs": [],
   "source": [
    "yprob = model.predict(X_test)\n",
    "yprobcl = [np.argmax(i) for i in yprob]"
   ]
  },
  {
   "cell_type": "code",
   "execution_count": 12,
   "metadata": {},
   "outputs": [],
   "source": [
    "from sklearn.metrics import accuracy_score, confusion_matrix"
   ]
  },
  {
   "cell_type": "code",
   "execution_count": 13,
   "metadata": {},
   "outputs": [
    {
     "data": {
      "text/plain": [
       "0.7245891661594644"
      ]
     },
     "execution_count": 13,
     "metadata": {},
     "output_type": "execute_result"
    }
   ],
   "source": [
    "accuracy_score(y_test,yprobcl)"
   ]
  },
  {
   "cell_type": "code",
   "execution_count": 14,
   "metadata": {},
   "outputs": [
    {
     "data": {
      "text/html": [
       "<div>\n",
       "<style scoped>\n",
       "    .dataframe tbody tr th:only-of-type {\n",
       "        vertical-align: middle;\n",
       "    }\n",
       "\n",
       "    .dataframe tbody tr th {\n",
       "        vertical-align: top;\n",
       "    }\n",
       "\n",
       "    .dataframe thead th {\n",
       "        text-align: right;\n",
       "    }\n",
       "</style>\n",
       "<table border=\"1\" class=\"dataframe\">\n",
       "  <thead>\n",
       "    <tr style=\"text-align: right;\">\n",
       "      <th></th>\n",
       "      <th>Predicted 0</th>\n",
       "      <th>Predicted 1</th>\n",
       "      <th>Predicted 2</th>\n",
       "      <th>Predicted 3</th>\n",
       "    </tr>\n",
       "  </thead>\n",
       "  <tbody>\n",
       "    <tr>\n",
       "      <th>Actual 0</th>\n",
       "      <td>492</td>\n",
       "      <td>52</td>\n",
       "      <td>63</td>\n",
       "      <td>233</td>\n",
       "    </tr>\n",
       "    <tr>\n",
       "      <th>Actual 1</th>\n",
       "      <td>67</td>\n",
       "      <td>677</td>\n",
       "      <td>47</td>\n",
       "      <td>25</td>\n",
       "    </tr>\n",
       "    <tr>\n",
       "      <th>Actual 2</th>\n",
       "      <td>69</td>\n",
       "      <td>42</td>\n",
       "      <td>654</td>\n",
       "      <td>37</td>\n",
       "    </tr>\n",
       "    <tr>\n",
       "      <th>Actual 3</th>\n",
       "      <td>206</td>\n",
       "      <td>22</td>\n",
       "      <td>42</td>\n",
       "      <td>558</td>\n",
       "    </tr>\n",
       "  </tbody>\n",
       "</table>\n",
       "</div>"
      ],
      "text/plain": [
       "          Predicted 0  Predicted 1  Predicted 2  Predicted 3\n",
       "Actual 0          492           52           63          233\n",
       "Actual 1           67          677           47           25\n",
       "Actual 2           69           42          654           37\n",
       "Actual 3          206           22           42          558"
      ]
     },
     "execution_count": 14,
     "metadata": {},
     "output_type": "execute_result"
    }
   ],
   "source": [
    "from sklearn.utils.multiclass import unique_labels\n",
    "def plot(y_true,y_pred):    \n",
    "    column = [f'Predicted {label}' for label in unique_labels(y_true)]\n",
    "    indexx = [f'Actual {label}' for label in unique_labels(y_true)]\n",
    "    table = pd.DataFrame(confusion_matrix(y_true,y_pred),columns=column,index=indexx)\n",
    "    return table\n",
    "\n",
    "plot(y_test,yprobcl)\n"
   ]
  },
  {
   "cell_type": "code",
   "execution_count": null,
   "metadata": {},
   "outputs": [],
   "source": []
  }
 ],
 "metadata": {
  "interpreter": {
   "hash": "6a60c7c0bbb9bc49c8f38655c364c79f9d895feb50eef24a1951784535a81066"
  },
  "kernelspec": {
   "display_name": "Python 3.9.7 64-bit",
   "language": "python",
   "name": "python3"
  },
  "language_info": {
   "codemirror_mode": {
    "name": "ipython",
    "version": 3
   },
   "file_extension": ".py",
   "mimetype": "text/x-python",
   "name": "python",
   "nbconvert_exporter": "python",
   "pygments_lexer": "ipython3",
   "version": "3.9.7"
  },
  "orig_nbformat": 4
 },
 "nbformat": 4,
 "nbformat_minor": 2
}
