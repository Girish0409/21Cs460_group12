{
 "cells": [
  {
   "cell_type": "code",
   "execution_count": 1,
   "metadata": {},
   "outputs": [],
   "source": [
    "import tensorflow as tf\n",
    "import matplotlib.pyplot as plt\n",
    "from tensorflow import keras\n",
    "import numpy as np\n",
    "from sklearn.utils import shuffle\n",
    "import pandas as pd \n",
    "from skimage.io import imread, imshow\n",
    "from skimage.transform import rescale\n",
    "from os import listdir\n",
    "from sklearn.model_selection import train_test_split as tts\n",
    "from skimage.color import rgb2hsv,rgb2gray\n",
    "from skimage.filters import threshold_otsu\n",
    "from os import listdir\n",
    "import pickle"
   ]
  },
  {
   "cell_type": "code",
   "execution_count": 2,
   "metadata": {},
   "outputs": [
    {
     "data": {
      "text/plain": [
       "[PhysicalDevice(name='/physical_device:CPU:0', device_type='CPU'),\n",
       " PhysicalDevice(name='/physical_device:GPU:0', device_type='GPU')]"
      ]
     },
     "execution_count": 2,
     "metadata": {},
     "output_type": "execute_result"
    }
   ],
   "source": [
    "tf.config.list_physical_devices()\n"
   ]
  },
  {
   "cell_type": "code",
   "execution_count": 3,
   "metadata": {},
   "outputs": [],
   "source": [
    "X = []\n",
    "Y = []"
   ]
  },
  {
   "cell_type": "code",
   "execution_count": null,
   "metadata": {},
   "outputs": [],
   "source": [
    "for filename in listdir('D:/NISER/Physics/7th Sem Stuffs/Machine Learning/Semester Project/Dataset/dataset2-master/dataset2-master/images/TRAIN/EOSINOPHIL'):\n",
    "    rgb_img = imread('D:/NISER/Physics/7th Sem Stuffs/Machine Learning/Semester Project/Dataset/dataset2-master/dataset2-master/images/TRAIN/EOSINOPHIL/' + filename,as_gray=False)\n",
    "    hsv_img = rgb2hsv(rgb_img)\n",
    "    sat_img = hsv_img[:,:,1]\n",
    "    thresh1 = threshold_otsu(sat_img)\n",
    "    binary1 = sat_img > thresh1\n",
    "    image_r = rescale(binary1, 0.5, anti_aliasing=False)\n",
    "    X.append(image_r)\n",
    "    Y.append(0)\n"
   ]
  },
  {
   "cell_type": "code",
   "execution_count": 6,
   "metadata": {},
   "outputs": [
    {
     "data": {
      "text/plain": [
       "(8829, 120, 160)"
      ]
     },
     "execution_count": 6,
     "metadata": {},
     "output_type": "execute_result"
    }
   ],
   "source": [
    "Xarr = np.array(X)\n",
    "Yarr = np.array(Y)\n",
    "Xarr.shape\n",
    "# imshow(Xarr[200])\n",
    "# Yarr.shape\n",
    "# Yarr[0:10]"
   ]
  },
  {
   "cell_type": "code",
   "execution_count": 7,
   "metadata": {},
   "outputs": [],
   "source": [
    "for filename in listdir('D:/NISER/Physics/7th Sem Stuffs/Machine Learning/Semester Project/Dataset/dataset2-master/dataset2-master/images/TRAIN/LYMPHOCYTE'):\n",
    "    rgb_img = imread('D:/NISER/Physics/7th Sem Stuffs/Machine Learning/Semester Project/Dataset/dataset2-master/dataset2-master/images/TRAIN/LYMPHOCYTE/' + filename,as_gray=False)\n",
    "    hsv_img = rgb2hsv(rgb_img)\n",
    "    sat_img = hsv_img[:,:,1]\n",
    "    thresh1 = threshold_otsu(sat_img)\n",
    "    binary1 = sat_img > thresh1\n",
    "    image_r = rescale(binary1, 0.5, anti_aliasing=False)\n",
    "    X.append(image_r)\n",
    "    Y.append(1)"
   ]
  },
  {
   "cell_type": "code",
   "execution_count": 8,
   "metadata": {},
   "outputs": [],
   "source": [
    "for filename in listdir('D:/NISER/Physics/7th Sem Stuffs/Machine Learning/Semester Project/Dataset/dataset2-master/dataset2-master/images/TRAIN/MONOCYTE'):\n",
    "    rgb_img = imread('D:/NISER/Physics/7th Sem Stuffs/Machine Learning/Semester Project/Dataset/dataset2-master/dataset2-master/images/TRAIN/MONOCYTE/' + filename,as_gray=False)\n",
    "    hsv_img = rgb2hsv(rgb_img)\n",
    "    sat_img = hsv_img[:,:,1]\n",
    "    thresh1 = threshold_otsu(sat_img)\n",
    "    binary1 = sat_img > thresh1\n",
    "    image_r = rescale(binary1, 0.5, anti_aliasing=False)\n",
    "    X.append(image_r)\n",
    "    Y.append(2)"
   ]
  },
  {
   "cell_type": "code",
   "execution_count": 9,
   "metadata": {},
   "outputs": [],
   "source": [
    "for filename in listdir('D:/NISER/Physics/7th Sem Stuffs/Machine Learning/Semester Project/Dataset/dataset2-master/dataset2-master/images/TRAIN/NEUTROPHIL'):\n",
    "    rgb_img = imread('D:/NISER/Physics/7th Sem Stuffs/Machine Learning/Semester Project/Dataset/dataset2-master/dataset2-master/images/TRAIN/NEUTROPHIL/' + filename,as_gray=False)\n",
    "    hsv_img = rgb2hsv(rgb_img)\n",
    "    sat_img = hsv_img[:,:,1]\n",
    "    thresh1 = threshold_otsu(sat_img)\n",
    "    binary1 = sat_img > thresh1\n",
    "    image_r = rescale(binary1, 0.5, anti_aliasing=False)\n",
    "    X.append(image_r)\n",
    "    Y.append(3)"
   ]
  },
  {
   "cell_type": "code",
   "execution_count": 10,
   "metadata": {},
   "outputs": [],
   "source": [
    "Xarr = np.array(X)\n",
    "Yarr = np.array(Y)"
   ]
  },
  {
   "cell_type": "code",
   "execution_count": 11,
   "metadata": {},
   "outputs": [
    {
     "data": {
      "text/plain": [
       "(35261, 120, 160)"
      ]
     },
     "execution_count": 11,
     "metadata": {},
     "output_type": "execute_result"
    }
   ],
   "source": [
    "Xarr.shape\n"
   ]
  },
  {
   "cell_type": "code",
   "execution_count": 12,
   "metadata": {},
   "outputs": [
    {
     "data": {
      "text/plain": [
       "(35261,)"
      ]
     },
     "execution_count": 12,
     "metadata": {},
     "output_type": "execute_result"
    }
   ],
   "source": [
    "Yarr.shape"
   ]
  },
  {
   "cell_type": "code",
   "execution_count": 13,
   "metadata": {},
   "outputs": [],
   "source": [
    "X_fi,Y_fi = shuffle(Xarr,Yarr)"
   ]
  },
  {
   "cell_type": "code",
   "execution_count": 14,
   "metadata": {},
   "outputs": [
    {
     "data": {
      "text/plain": [
       "(35261, 120, 160)"
      ]
     },
     "execution_count": 14,
     "metadata": {},
     "output_type": "execute_result"
    }
   ],
   "source": [
    "X_fi.shape"
   ]
  },
  {
   "cell_type": "code",
   "execution_count": 15,
   "metadata": {},
   "outputs": [
    {
     "data": {
      "text/plain": [
       "(35261,)"
      ]
     },
     "execution_count": 15,
     "metadata": {},
     "output_type": "execute_result"
    }
   ],
   "source": [
    "Y_fi.shape"
   ]
  },
  {
   "cell_type": "code",
   "execution_count": 16,
   "metadata": {},
   "outputs": [
    {
     "data": {
      "text/plain": [
       "array([0, 0, 1, 3, 2, 0, 3, 2, 3, 3, 0, 1, 2, 3, 2, 1, 3, 1, 3, 3])"
      ]
     },
     "execution_count": 16,
     "metadata": {},
     "output_type": "execute_result"
    }
   ],
   "source": [
    "Y_fi[0:20]"
   ]
  },
  {
   "cell_type": "code",
   "execution_count": 17,
   "metadata": {},
   "outputs": [],
   "source": [
    "with open('augotsudataX','wb') as f:\n",
    "    pickle.dump(X_fi,f)\n",
    "\n",
    "with open('augotsudataY','wb') as g:\n",
    "    pickle.dump(Y_fi,g)"
   ]
  },
  {
   "cell_type": "code",
   "execution_count": null,
   "metadata": {},
   "outputs": [],
   "source": []
  }
 ],
 "metadata": {
  "interpreter": {
   "hash": "6a60c7c0bbb9bc49c8f38655c364c79f9d895feb50eef24a1951784535a81066"
  },
  "kernelspec": {
   "display_name": "Python 3.9.7 64-bit",
   "name": "python3"
  },
  "language_info": {
   "codemirror_mode": {
    "name": "ipython",
    "version": 3
   },
   "file_extension": ".py",
   "mimetype": "text/x-python",
   "name": "python",
   "nbconvert_exporter": "python",
   "pygments_lexer": "ipython3",
   "version": "3.8.8"
  },
  "orig_nbformat": 4
 },
 "nbformat": 4,
 "nbformat_minor": 2
}
