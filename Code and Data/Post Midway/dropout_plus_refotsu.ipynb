{
 "cells": [
  {
   "cell_type": "code",
   "execution_count": 1,
   "metadata": {},
   "outputs": [],
   "source": [
    "#NO REGULARISATION\n",
    "import tensorflow as tf\n",
    "import matplotlib.pyplot as plt\n",
    "from tensorflow import keras\n",
    "import numpy as np\n",
    "from sklearn.utils import shuffle\n",
    "import pandas as pd \n",
    "from skimage.io import imread, imshow\n",
    "from skimage.transform import rescale\n",
    "from os import listdir\n",
    "from sklearn.model_selection import train_test_split as tts\n",
    "from skimage.color import rgb2hsv\n",
    "from skimage.filters import threshold_otsu\n",
    "from os import listdir\n",
    "import pickle"
   ]
  },
  {
   "cell_type": "code",
   "execution_count": 2,
   "metadata": {},
   "outputs": [
    {
     "data": {
      "text/plain": [
       "[PhysicalDevice(name='/physical_device:CPU:0', device_type='CPU'),\n",
       " PhysicalDevice(name='/physical_device:GPU:0', device_type='GPU')]"
      ]
     },
     "execution_count": 2,
     "metadata": {},
     "output_type": "execute_result"
    }
   ],
   "source": [
    " tf.config.list_physical_devices()"
   ]
  },
  {
   "cell_type": "code",
   "execution_count": 3,
   "metadata": {},
   "outputs": [],
   "source": [
    "with open('refotsudataX','rb') as f:\n",
    "    X = pickle.load(f)\n",
    "\n",
    "with open('refotsudataY','rb') as g:\n",
    "    Y = pickle.load(g)\n"
   ]
  },
  {
   "cell_type": "code",
   "execution_count": 4,
   "metadata": {},
   "outputs": [],
   "source": [
    "X_train, X_test, y_train, y_test = tts(X, Y, test_size=0.33)"
   ]
  },
  {
   "cell_type": "code",
   "execution_count": 5,
   "metadata": {},
   "outputs": [
    {
     "data": {
      "text/plain": [
       "array([3, 2, 0, 3, 3, 0, 1, 3, 3, 1, 0, 1, 2, 1, 0, 1, 3, 0, 2, 3])"
      ]
     },
     "execution_count": 5,
     "metadata": {},
     "output_type": "execute_result"
    }
   ],
   "source": [
    "X_train = X_train.reshape(6671,120,160,1)\n",
    "X_train.shape\n",
    "y_train[0:20]"
   ]
  },
  {
   "cell_type": "code",
   "execution_count": 6,
   "metadata": {},
   "outputs": [
    {
     "data": {
      "text/plain": [
       "array([[0., 0., 0., 1.],\n",
       "       [0., 0., 1., 0.],\n",
       "       [1., 0., 0., 0.],\n",
       "       [0., 0., 0., 1.],\n",
       "       [0., 0., 0., 1.],\n",
       "       [1., 0., 0., 0.],\n",
       "       [0., 1., 0., 0.],\n",
       "       [0., 0., 0., 1.],\n",
       "       [0., 0., 0., 1.],\n",
       "       [0., 1., 0., 0.]], dtype=float32)"
      ]
     },
     "execution_count": 6,
     "metadata": {},
     "output_type": "execute_result"
    }
   ],
   "source": [
    "y_train_cate = keras.utils.to_categorical(\n",
    "    y_train,num_classes=4,dtype='float32'\n",
    ")\n",
    "\n",
    "y_train_cate[0:10]"
   ]
  },
  {
   "cell_type": "code",
   "execution_count": 7,
   "metadata": {},
   "outputs": [
    {
     "name": "stdout",
     "output_type": "stream",
     "text": [
      "Epoch 1/90\n",
      "209/209 [==============================] - 15s 29ms/step - loss: 1.3865 - accuracy: 0.2500\n",
      "Epoch 2/90\n",
      "209/209 [==============================] - 5s 26ms/step - loss: 1.3651 - accuracy: 0.2982\n",
      "Epoch 3/90\n",
      "209/209 [==============================] - 5s 26ms/step - loss: 1.2005 - accuracy: 0.4601\n",
      "Epoch 4/90\n",
      "209/209 [==============================] - 5s 26ms/step - loss: 0.9908 - accuracy: 0.5419\n",
      "Epoch 5/90\n",
      "209/209 [==============================] - 5s 26ms/step - loss: 0.8643 - accuracy: 0.5807\n",
      "Epoch 6/90\n",
      "209/209 [==============================] - 5s 26ms/step - loss: 0.8243 - accuracy: 0.6136\n",
      "Epoch 7/90\n",
      "209/209 [==============================] - 5s 26ms/step - loss: 0.7877 - accuracy: 0.6362\n",
      "Epoch 8/90\n",
      "209/209 [==============================] - 5s 26ms/step - loss: 0.7410 - accuracy: 0.6497\n",
      "Epoch 9/90\n",
      "209/209 [==============================] - 5s 26ms/step - loss: 0.7310 - accuracy: 0.6542\n",
      "Epoch 10/90\n",
      "209/209 [==============================] - 5s 26ms/step - loss: 0.7295 - accuracy: 0.6602\n",
      "Epoch 11/90\n",
      "209/209 [==============================] - 5s 26ms/step - loss: 0.6849 - accuracy: 0.6815\n",
      "Epoch 12/90\n",
      "209/209 [==============================] - 5s 26ms/step - loss: 0.6776 - accuracy: 0.6764\n",
      "Epoch 13/90\n",
      "209/209 [==============================] - 5s 26ms/step - loss: 0.6537 - accuracy: 0.6923\n",
      "Epoch 14/90\n",
      "209/209 [==============================] - 5s 26ms/step - loss: 0.6377 - accuracy: 0.6981\n",
      "Epoch 15/90\n",
      "209/209 [==============================] - 5s 26ms/step - loss: 0.6176 - accuracy: 0.7098\n",
      "Epoch 16/90\n",
      "209/209 [==============================] - 5s 26ms/step - loss: 0.6053 - accuracy: 0.7135\n",
      "Epoch 17/90\n",
      "209/209 [==============================] - 5s 26ms/step - loss: 0.6074 - accuracy: 0.7144\n",
      "Epoch 18/90\n",
      "209/209 [==============================] - 5s 26ms/step - loss: 0.5793 - accuracy: 0.7273\n",
      "Epoch 19/90\n",
      "209/209 [==============================] - 5s 26ms/step - loss: 0.5893 - accuracy: 0.7246\n",
      "Epoch 20/90\n",
      "209/209 [==============================] - 5s 26ms/step - loss: 0.5655 - accuracy: 0.7341\n",
      "Epoch 21/90\n",
      "209/209 [==============================] - 5s 26ms/step - loss: 0.5600 - accuracy: 0.7356\n",
      "Epoch 22/90\n",
      "209/209 [==============================] - 5s 26ms/step - loss: 0.5470 - accuracy: 0.7455\n",
      "Epoch 23/90\n",
      "209/209 [==============================] - 5s 26ms/step - loss: 0.5433 - accuracy: 0.7399\n",
      "Epoch 24/90\n",
      "209/209 [==============================] - 5s 26ms/step - loss: 0.5389 - accuracy: 0.7495\n",
      "Epoch 25/90\n",
      "209/209 [==============================] - 5s 26ms/step - loss: 0.5169 - accuracy: 0.7576\n",
      "Epoch 26/90\n",
      "209/209 [==============================] - 5s 26ms/step - loss: 0.5095 - accuracy: 0.7615\n",
      "Epoch 27/90\n",
      "209/209 [==============================] - 5s 26ms/step - loss: 0.5029 - accuracy: 0.7653\n",
      "Epoch 28/90\n",
      "209/209 [==============================] - 5s 26ms/step - loss: 0.5065 - accuracy: 0.7657\n",
      "Epoch 29/90\n",
      "209/209 [==============================] - 5s 26ms/step - loss: 0.4899 - accuracy: 0.7762\n",
      "Epoch 30/90\n",
      "209/209 [==============================] - 5s 26ms/step - loss: 0.4937 - accuracy: 0.7744\n",
      "Epoch 31/90\n",
      "209/209 [==============================] - 5s 26ms/step - loss: 0.4825 - accuracy: 0.7787\n",
      "Epoch 32/90\n",
      "209/209 [==============================] - 5s 26ms/step - loss: 0.4819 - accuracy: 0.7807\n",
      "Epoch 33/90\n",
      "209/209 [==============================] - 5s 26ms/step - loss: 0.4894 - accuracy: 0.7781\n",
      "Epoch 34/90\n",
      "209/209 [==============================] - 5s 26ms/step - loss: 0.4448 - accuracy: 0.7990\n",
      "Epoch 35/90\n",
      "209/209 [==============================] - 5s 26ms/step - loss: 0.4560 - accuracy: 0.7904\n",
      "Epoch 36/90\n",
      "209/209 [==============================] - 5s 26ms/step - loss: 0.4484 - accuracy: 0.7954\n",
      "Epoch 37/90\n",
      "209/209 [==============================] - 5s 26ms/step - loss: 0.4429 - accuracy: 0.7979\n",
      "Epoch 38/90\n",
      "209/209 [==============================] - 5s 26ms/step - loss: 0.4324 - accuracy: 0.8066\n",
      "Epoch 39/90\n",
      "209/209 [==============================] - 5s 26ms/step - loss: 0.4301 - accuracy: 0.8026\n",
      "Epoch 40/90\n",
      "209/209 [==============================] - 5s 26ms/step - loss: 0.4167 - accuracy: 0.8045\n",
      "Epoch 41/90\n",
      "209/209 [==============================] - 5s 26ms/step - loss: 0.4070 - accuracy: 0.8158\n",
      "Epoch 42/90\n",
      "209/209 [==============================] - 5s 26ms/step - loss: 0.4073 - accuracy: 0.8134\n",
      "Epoch 43/90\n",
      "209/209 [==============================] - 5s 26ms/step - loss: 0.4246 - accuracy: 0.8132\n",
      "Epoch 44/90\n",
      "209/209 [==============================] - 5s 26ms/step - loss: 0.4065 - accuracy: 0.8185\n",
      "Epoch 45/90\n",
      "209/209 [==============================] - 5s 26ms/step - loss: 0.4044 - accuracy: 0.8188\n",
      "Epoch 46/90\n",
      "209/209 [==============================] - 5s 26ms/step - loss: 0.4016 - accuracy: 0.8159\n",
      "Epoch 47/90\n",
      "209/209 [==============================] - 5s 26ms/step - loss: 0.3951 - accuracy: 0.8204\n",
      "Epoch 48/90\n",
      "209/209 [==============================] - 5s 26ms/step - loss: 0.3978 - accuracy: 0.8236\n",
      "Epoch 49/90\n",
      "209/209 [==============================] - 5s 26ms/step - loss: 0.3806 - accuracy: 0.8261\n",
      "Epoch 50/90\n",
      "209/209 [==============================] - 5s 26ms/step - loss: 0.3827 - accuracy: 0.8242\n",
      "Epoch 51/90\n",
      "209/209 [==============================] - 5s 26ms/step - loss: 0.3874 - accuracy: 0.8303\n",
      "Epoch 52/90\n",
      "209/209 [==============================] - 5s 26ms/step - loss: 0.3646 - accuracy: 0.8378\n",
      "Epoch 53/90\n",
      "209/209 [==============================] - 5s 26ms/step - loss: 0.3725 - accuracy: 0.8375\n",
      "Epoch 54/90\n",
      "209/209 [==============================] - 5s 26ms/step - loss: 0.3723 - accuracy: 0.8405\n",
      "Epoch 55/90\n",
      "209/209 [==============================] - 5s 26ms/step - loss: 0.3580 - accuracy: 0.8411\n",
      "Epoch 56/90\n",
      "209/209 [==============================] - 5s 26ms/step - loss: 0.3602 - accuracy: 0.8435\n",
      "Epoch 57/90\n",
      "209/209 [==============================] - 5s 26ms/step - loss: 0.3418 - accuracy: 0.8510\n",
      "Epoch 58/90\n",
      "209/209 [==============================] - 5s 26ms/step - loss: 0.3515 - accuracy: 0.8508\n",
      "Epoch 59/90\n",
      "209/209 [==============================] - 5s 26ms/step - loss: 0.3419 - accuracy: 0.8507\n",
      "Epoch 60/90\n",
      "209/209 [==============================] - 5s 26ms/step - loss: 0.3318 - accuracy: 0.8574\n",
      "Epoch 61/90\n",
      "209/209 [==============================] - 5s 26ms/step - loss: 0.3190 - accuracy: 0.8654\n",
      "Epoch 62/90\n",
      "209/209 [==============================] - 5s 26ms/step - loss: 0.3440 - accuracy: 0.8504\n",
      "Epoch 63/90\n",
      "209/209 [==============================] - 5s 26ms/step - loss: 0.3211 - accuracy: 0.8618\n",
      "Epoch 64/90\n",
      "209/209 [==============================] - 5s 26ms/step - loss: 0.3343 - accuracy: 0.8574\n",
      "Epoch 65/90\n",
      "209/209 [==============================] - 5s 26ms/step - loss: 0.3339 - accuracy: 0.8582\n",
      "Epoch 66/90\n",
      "209/209 [==============================] - 5s 26ms/step - loss: 0.3130 - accuracy: 0.8640\n",
      "Epoch 67/90\n",
      "209/209 [==============================] - 5s 26ms/step - loss: 0.3346 - accuracy: 0.8609\n",
      "Epoch 68/90\n",
      "209/209 [==============================] - 5s 26ms/step - loss: 0.3045 - accuracy: 0.8678\n",
      "Epoch 69/90\n",
      "209/209 [==============================] - 5s 26ms/step - loss: 0.3187 - accuracy: 0.8661\n",
      "Epoch 70/90\n",
      "209/209 [==============================] - 5s 26ms/step - loss: 0.2985 - accuracy: 0.8762\n",
      "Epoch 71/90\n",
      "209/209 [==============================] - 5s 26ms/step - loss: 0.3095 - accuracy: 0.8667\n",
      "Epoch 72/90\n",
      "209/209 [==============================] - 5s 26ms/step - loss: 0.2970 - accuracy: 0.8747\n",
      "Epoch 73/90\n",
      "209/209 [==============================] - 5s 26ms/step - loss: 0.3039 - accuracy: 0.8711\n",
      "Epoch 74/90\n",
      "209/209 [==============================] - 5s 26ms/step - loss: 0.3081 - accuracy: 0.8747\n",
      "Epoch 75/90\n",
      "209/209 [==============================] - 5s 26ms/step - loss: 0.2859 - accuracy: 0.8801\n",
      "Epoch 76/90\n",
      "209/209 [==============================] - 5s 26ms/step - loss: 0.3006 - accuracy: 0.8736\n",
      "Epoch 77/90\n",
      "209/209 [==============================] - 5s 26ms/step - loss: 0.2837 - accuracy: 0.8820\n",
      "Epoch 78/90\n",
      "209/209 [==============================] - 5s 26ms/step - loss: 0.2975 - accuracy: 0.8748\n",
      "Epoch 79/90\n",
      "209/209 [==============================] - 5s 26ms/step - loss: 0.2771 - accuracy: 0.8831\n",
      "Epoch 80/90\n",
      "209/209 [==============================] - 5s 26ms/step - loss: 0.2741 - accuracy: 0.8892\n",
      "Epoch 81/90\n",
      "209/209 [==============================] - 5s 26ms/step - loss: 0.2940 - accuracy: 0.8801\n",
      "Epoch 82/90\n",
      "209/209 [==============================] - 5s 26ms/step - loss: 0.2653 - accuracy: 0.8900\n",
      "Epoch 83/90\n",
      "209/209 [==============================] - 5s 26ms/step - loss: 0.2668 - accuracy: 0.8915\n",
      "Epoch 84/90\n",
      "209/209 [==============================] - 5s 26ms/step - loss: 0.2699 - accuracy: 0.8868\n",
      "Epoch 85/90\n",
      "209/209 [==============================] - 5s 26ms/step - loss: 0.2694 - accuracy: 0.8865\n",
      "Epoch 86/90\n",
      "209/209 [==============================] - 5s 26ms/step - loss: 0.2649 - accuracy: 0.8901\n",
      "Epoch 87/90\n",
      "209/209 [==============================] - 5s 26ms/step - loss: 0.2650 - accuracy: 0.8879\n",
      "Epoch 88/90\n",
      "209/209 [==============================] - 5s 26ms/step - loss: 0.2556 - accuracy: 0.8928\n",
      "Epoch 89/90\n",
      "209/209 [==============================] - 5s 26ms/step - loss: 0.2559 - accuracy: 0.8909\n",
      "Epoch 90/90\n",
      "209/209 [==============================] - 5s 26ms/step - loss: 0.2543 - accuracy: 0.8967\n"
     ]
    },
    {
     "data": {
      "text/plain": [
       "<keras.callbacks.History at 0x1e250b44850>"
      ]
     },
     "execution_count": 7,
     "metadata": {},
     "output_type": "execute_result"
    }
   ],
   "source": [
    "model = keras.Sequential([\n",
    "    #cnn layers\n",
    "    keras.layers.Conv2D(filters=32,kernel_size=(3, 3),activation='relu',input_shape=(120,160,1)),\n",
    "    keras.layers.MaxPooling2D((2,2)),\n",
    "\n",
    "    keras.layers.Conv2D(filters=32,kernel_size=(3, 3),activation='relu'),\n",
    "    keras.layers.MaxPooling2D((2,2)),\n",
    "\n",
    "    keras.layers.Conv2D(filters=32,kernel_size=(3, 3),activation='relu'),\n",
    "    keras.layers.MaxPooling2D((2,2)),\n",
    "\n",
    "    keras.layers.Conv2D(filters=64,kernel_size=(3, 3),activation='relu'),\n",
    "    keras.layers.MaxPooling2D((2,2)),\n",
    "\n",
    "    #dense normal ann\n",
    "    keras.layers.Flatten(), \n",
    "    keras.layers.Dropout(0.78),   \n",
    "    keras.layers.Dense(90,activation='relu'),\n",
    "    keras.layers.Dense(60,activation='relu'),\n",
    "    keras.layers.Dense(30,activation='relu'),\n",
    "    keras.layers.Dense(10,activation='relu'),\n",
    "    \n",
    "    keras.layers.Dense(4,activation='softmax'),\n",
    "    #softmax normalises the probability of the output set\n",
    "])\n",
    "\n",
    "model.compile(\n",
    "    optimizer='adam',\n",
    "    loss = 'categorical_crossentropy',\n",
    "    metrics=['accuracy']\n",
    ")\n",
    "\n",
    "model.fit(X_train,y_train_cate,epochs=90)"
   ]
  },
  {
   "cell_type": "code",
   "execution_count": 8,
   "metadata": {},
   "outputs": [],
   "source": [
    "X_test = X_test.reshape(3286,120,160,1)\n",
    "y_test_cate = keras.utils.to_categorical(\n",
    "    y_test,num_classes=4,dtype='float32'\n",
    ")"
   ]
  },
  {
   "cell_type": "code",
   "execution_count": 9,
   "metadata": {},
   "outputs": [
    {
     "name": "stdout",
     "output_type": "stream",
     "text": [
      "103/103 [==============================] - 2s 14ms/step - loss: 0.7163 - accuracy: 0.7794\n"
     ]
    },
    {
     "data": {
      "text/plain": [
       "[0.7162814736366272, 0.7793670296669006]"
      ]
     },
     "execution_count": 9,
     "metadata": {},
     "output_type": "execute_result"
    }
   ],
   "source": [
    "model.evaluate(X_test,y_test_cate)"
   ]
  },
  {
   "cell_type": "code",
   "execution_count": 10,
   "metadata": {},
   "outputs": [],
   "source": [
    "yprob = model.predict(X_test)"
   ]
  },
  {
   "cell_type": "code",
   "execution_count": 11,
   "metadata": {},
   "outputs": [],
   "source": [
    "yprobcl = [np.argmax(i) for i in yprob]"
   ]
  },
  {
   "cell_type": "code",
   "execution_count": 12,
   "metadata": {},
   "outputs": [
    {
     "data": {
      "text/plain": [
       "[1, 2, 1, 3, 1, 0, 3, 1, 0, 1]"
      ]
     },
     "execution_count": 12,
     "metadata": {},
     "output_type": "execute_result"
    }
   ],
   "source": [
    "yprobcl[0:10]"
   ]
  },
  {
   "cell_type": "code",
   "execution_count": 13,
   "metadata": {},
   "outputs": [
    {
     "data": {
      "text/plain": [
       "array([1, 2, 1, 0, 1, 3, 3, 1, 0, 1])"
      ]
     },
     "execution_count": 13,
     "metadata": {},
     "output_type": "execute_result"
    }
   ],
   "source": [
    "y_test[0:10]"
   ]
  },
  {
   "cell_type": "code",
   "execution_count": 14,
   "metadata": {},
   "outputs": [],
   "source": [
    "from sklearn.metrics import accuracy_score"
   ]
  },
  {
   "cell_type": "code",
   "execution_count": 15,
   "metadata": {},
   "outputs": [
    {
     "data": {
      "text/plain": [
       "0.7793670115642118"
      ]
     },
     "execution_count": 15,
     "metadata": {},
     "output_type": "execute_result"
    }
   ],
   "source": [
    "accuracy_score(y_test,yprobcl)"
   ]
  },
  {
   "cell_type": "code",
   "execution_count": 16,
   "metadata": {},
   "outputs": [],
   "source": [
    "from sklearn.metrics import confusion_matrix"
   ]
  },
  {
   "cell_type": "code",
   "execution_count": 18,
   "metadata": {},
   "outputs": [
    {
     "data": {
      "text/html": [
       "<div>\n",
       "<style scoped>\n",
       "    .dataframe tbody tr th:only-of-type {\n",
       "        vertical-align: middle;\n",
       "    }\n",
       "\n",
       "    .dataframe tbody tr th {\n",
       "        vertical-align: top;\n",
       "    }\n",
       "\n",
       "    .dataframe thead th {\n",
       "        text-align: right;\n",
       "    }\n",
       "</style>\n",
       "<table border=\"1\" class=\"dataframe\">\n",
       "  <thead>\n",
       "    <tr style=\"text-align: right;\">\n",
       "      <th></th>\n",
       "      <th>Predicted 0</th>\n",
       "      <th>Predicted 1</th>\n",
       "      <th>Predicted 2</th>\n",
       "      <th>Predicted 3</th>\n",
       "    </tr>\n",
       "  </thead>\n",
       "  <tbody>\n",
       "    <tr>\n",
       "      <th>Actual 0</th>\n",
       "      <td>537</td>\n",
       "      <td>29</td>\n",
       "      <td>120</td>\n",
       "      <td>142</td>\n",
       "    </tr>\n",
       "    <tr>\n",
       "      <th>Actual 1</th>\n",
       "      <td>39</td>\n",
       "      <td>727</td>\n",
       "      <td>37</td>\n",
       "      <td>13</td>\n",
       "    </tr>\n",
       "    <tr>\n",
       "      <th>Actual 2</th>\n",
       "      <td>31</td>\n",
       "      <td>26</td>\n",
       "      <td>748</td>\n",
       "      <td>23</td>\n",
       "    </tr>\n",
       "    <tr>\n",
       "      <th>Actual 3</th>\n",
       "      <td>197</td>\n",
       "      <td>18</td>\n",
       "      <td>50</td>\n",
       "      <td>549</td>\n",
       "    </tr>\n",
       "  </tbody>\n",
       "</table>\n",
       "</div>"
      ],
      "text/plain": [
       "          Predicted 0  Predicted 1  Predicted 2  Predicted 3\n",
       "Actual 0          537           29          120          142\n",
       "Actual 1           39          727           37           13\n",
       "Actual 2           31           26          748           23\n",
       "Actual 3          197           18           50          549"
      ]
     },
     "execution_count": 18,
     "metadata": {},
     "output_type": "execute_result"
    }
   ],
   "source": [
    "from sklearn.utils.multiclass import unique_labels\n",
    "def plot(y_true,y_pred):    \n",
    "    column = [f'Predicted {label}' for label in unique_labels(y_true)]\n",
    "    indexx = [f'Actual {label}' for label in unique_labels(y_true)]\n",
    "    table = pd.DataFrame(confusion_matrix(y_true,y_pred),columns=column,index=indexx)\n",
    "    return table\n",
    "\n",
    "plot(y_test,yprobcl)"
   ]
  },
  {
   "cell_type": "code",
   "execution_count": null,
   "metadata": {},
   "outputs": [],
   "source": []
  }
 ],
 "metadata": {
  "interpreter": {
   "hash": "6a60c7c0bbb9bc49c8f38655c364c79f9d895feb50eef24a1951784535a81066"
  },
  "kernelspec": {
   "display_name": "Python 3.9.7 64-bit",
   "name": "python3"
  },
  "language_info": {
   "codemirror_mode": {
    "name": "ipython",
    "version": 3
   },
   "file_extension": ".py",
   "mimetype": "text/x-python",
   "name": "python",
   "nbconvert_exporter": "python",
   "pygments_lexer": "ipython3",
   "version": "3.9.7"
  },
  "orig_nbformat": 4
 },
 "nbformat": 4,
 "nbformat_minor": 2
}
