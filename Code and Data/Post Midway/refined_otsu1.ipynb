{
 "cells": [
  {
   "cell_type": "code",
   "execution_count": 1,
   "metadata": {},
   "outputs": [],
   "source": [
    "import tensorflow as tf\n",
    "import matplotlib.pyplot as plt\n",
    "from tensorflow import keras\n",
    "import numpy as np\n",
    "from sklearn.utils import shuffle\n",
    "import pandas as pd \n",
    "from skimage.io import imread, imshow\n",
    "from skimage.transform import rescale\n",
    "from os import listdir\n",
    "from sklearn.model_selection import train_test_split as tts\n",
    "from skimage.color import rgb2hsv,rgb2gray\n",
    "from skimage.filters import threshold_otsu\n",
    "from os import listdir\n",
    "import pickle"
   ]
  },
  {
   "cell_type": "code",
   "execution_count": 2,
   "metadata": {},
   "outputs": [
    {
     "data": {
      "text/plain": [
       "[PhysicalDevice(name='/physical_device:CPU:0', device_type='CPU'),\n",
       " PhysicalDevice(name='/physical_device:GPU:0', device_type='GPU')]"
      ]
     },
     "execution_count": 2,
     "metadata": {},
     "output_type": "execute_result"
    }
   ],
   "source": [
    "tf.config.list_physical_devices()\n"
   ]
  },
  {
   "cell_type": "code",
   "execution_count": 3,
   "metadata": {},
   "outputs": [],
   "source": [
    "X = []\n",
    "Y = []"
   ]
  },
  {
   "cell_type": "code",
   "execution_count": 4,
   "metadata": {},
   "outputs": [],
   "source": [
    "for filename in listdir('D:/NISER/Physics/7th Sem Stuffs/Machine Learning/Semester Project/Data/EOSINOPHIL'):\n",
    "    rgb_img = imread('D:/NISER/Physics/7th Sem Stuffs/Machine Learning/Semester Project/Data/EOSINOPHIL/' + filename,as_gray=False)\n",
    "    hsv_img = rgb2hsv(rgb_img)\n",
    "    gimg = rgb2gray(rgb_img)\n",
    "    sat_img = hsv_img[:,:,1]\n",
    "    thresh1 = threshold_otsu(sat_img)\n",
    "    binary1 = sat_img > thresh1\n",
    "    masked = binary1*gimg\n",
    "    masked2 = threshold_otsu(masked)\n",
    "    maskedf = masked > masked2\n",
    "    image_r = rescale(maskedf, 0.5, anti_aliasing=False)\n",
    "    X.append(image_r)\n",
    "    Y.append(0)"
   ]
  },
  {
   "cell_type": "code",
   "execution_count": 12,
   "metadata": {},
   "outputs": [],
   "source": [
    "for filename in listdir('D:/NISER/Physics/7th Sem Stuffs/Machine Learning/Semester Project/Data/LYMPHOCYTE'):\n",
    "    rgb_img = imread('D:/NISER/Physics/7th Sem Stuffs/Machine Learning/Semester Project/Data/LYMPHOCYTE/' + filename,as_gray=False)\n",
    "    hsv_img = rgb2hsv(rgb_img)\n",
    "    gimg = rgb2gray(rgb_img)\n",
    "    sat_img = hsv_img[:,:,1]\n",
    "    thresh1 = threshold_otsu(sat_img)\n",
    "    binary1 = sat_img > thresh1\n",
    "    masked = binary1*gimg\n",
    "    masked2 = threshold_otsu(masked)\n",
    "    maskedf = masked > masked2\n",
    "    image_r = rescale(maskedf, 0.5, anti_aliasing=False)\n",
    "    X.append(image_r)\n",
    "    Y.append(1)"
   ]
  },
  {
   "cell_type": "code",
   "execution_count": 15,
   "metadata": {},
   "outputs": [],
   "source": [
    "for filename in listdir('D:/NISER/Physics/7th Sem Stuffs/Machine Learning/Semester Project/Data/MONOCYTE'):\n",
    "    rgb_img = imread('D:/NISER/Physics/7th Sem Stuffs/Machine Learning/Semester Project/Data/MONOCYTE/' + filename,as_gray=False)\n",
    "    hsv_img = rgb2hsv(rgb_img)\n",
    "    gimg = rgb2gray(rgb_img)\n",
    "    sat_img = hsv_img[:,:,1]\n",
    "    thresh1 = threshold_otsu(sat_img)\n",
    "    binary1 = sat_img > thresh1\n",
    "    masked = binary1*gimg\n",
    "    masked2 = threshold_otsu(masked)\n",
    "    maskedf = masked > masked2\n",
    "    image_r = rescale(maskedf, 0.5, anti_aliasing=False)\n",
    "    X.append(image_r)\n",
    "    Y.append(2)"
   ]
  },
  {
   "cell_type": "code",
   "execution_count": 16,
   "metadata": {},
   "outputs": [],
   "source": [
    "for filename in listdir('D:/NISER/Physics/7th Sem Stuffs/Machine Learning/Semester Project/Data/NEUTROPHIL'):\n",
    "    rgb_img = imread('D:/NISER/Physics/7th Sem Stuffs/Machine Learning/Semester Project/Data/NEUTROPHIL/' + filename,as_gray=False)\n",
    "    hsv_img = rgb2hsv(rgb_img)\n",
    "    gimg = rgb2gray(rgb_img)\n",
    "    sat_img = hsv_img[:,:,1]\n",
    "    thresh1 = threshold_otsu(sat_img)\n",
    "    binary1 = sat_img > thresh1\n",
    "    masked = binary1*gimg\n",
    "    masked2 = threshold_otsu(masked)\n",
    "    maskedf = masked > masked2\n",
    "    image_r = rescale(maskedf, 0.5, anti_aliasing=False)\n",
    "    X.append(image_r)\n",
    "    Y.append(3)"
   ]
  },
  {
   "cell_type": "code",
   "execution_count": 17,
   "metadata": {},
   "outputs": [],
   "source": [
    "Xarr = np.array(X)\n",
    "Yarr = np.array(Y)"
   ]
  },
  {
   "cell_type": "code",
   "execution_count": 18,
   "metadata": {},
   "outputs": [
    {
     "data": {
      "text/plain": [
       "(9957, 120, 160)"
      ]
     },
     "execution_count": 18,
     "metadata": {},
     "output_type": "execute_result"
    }
   ],
   "source": [
    "Xarr.shape\n"
   ]
  },
  {
   "cell_type": "code",
   "execution_count": 19,
   "metadata": {},
   "outputs": [
    {
     "data": {
      "text/plain": [
       "(9957,)"
      ]
     },
     "execution_count": 19,
     "metadata": {},
     "output_type": "execute_result"
    }
   ],
   "source": [
    "Yarr.shape"
   ]
  },
  {
   "cell_type": "code",
   "execution_count": 20,
   "metadata": {},
   "outputs": [],
   "source": [
    "X_fi,Y_fi = shuffle(Xarr,Yarr)"
   ]
  },
  {
   "cell_type": "code",
   "execution_count": 21,
   "metadata": {},
   "outputs": [
    {
     "data": {
      "text/plain": [
       "(9957, 120, 160)"
      ]
     },
     "execution_count": 21,
     "metadata": {},
     "output_type": "execute_result"
    }
   ],
   "source": [
    "X_fi.shape"
   ]
  },
  {
   "cell_type": "code",
   "execution_count": 22,
   "metadata": {},
   "outputs": [
    {
     "data": {
      "text/plain": [
       "(9957,)"
      ]
     },
     "execution_count": 22,
     "metadata": {},
     "output_type": "execute_result"
    }
   ],
   "source": [
    "Y_fi.shape"
   ]
  },
  {
   "cell_type": "code",
   "execution_count": 23,
   "metadata": {},
   "outputs": [
    {
     "data": {
      "text/plain": [
       "array([0, 0, 3, 1, 2, 2, 1, 2, 3, 2, 1, 1, 1, 2, 1, 3, 0, 3, 3, 3])"
      ]
     },
     "execution_count": 23,
     "metadata": {},
     "output_type": "execute_result"
    }
   ],
   "source": [
    "Y_fi[0:20]"
   ]
  },
  {
   "cell_type": "code",
   "execution_count": 17,
   "metadata": {},
   "outputs": [],
   "source": [
    "with open('refotsudataX','wb') as f:\n",
    "    pickle.dump(X_fi,f)\n",
    "\n",
    "with open('refotsudataY','wb') as g:\n",
    "    pickle.dump(Y_fi,g)"
   ]
  },
  {
   "cell_type": "code",
   "execution_count": null,
   "metadata": {},
   "outputs": [],
   "source": []
  }
 ],
 "metadata": {
  "interpreter": {
   "hash": "6a60c7c0bbb9bc49c8f38655c364c79f9d895feb50eef24a1951784535a81066"
  },
  "kernelspec": {
   "display_name": "Python 3.9.7 64-bit",
   "name": "python3"
  },
  "language_info": {
   "codemirror_mode": {
    "name": "ipython",
    "version": 3
   },
   "file_extension": ".py",
   "mimetype": "text/x-python",
   "name": "python",
   "nbconvert_exporter": "python",
   "pygments_lexer": "ipython3",
   "version": "3.9.7"
  },
  "orig_nbformat": 4
 },
 "nbformat": 4,
 "nbformat_minor": 2
}
