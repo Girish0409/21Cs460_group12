{
 "cells": [
  {
   "cell_type": "code",
   "execution_count": 1,
   "metadata": {},
   "outputs": [],
   "source": [
    "import tensorflow as tf\n",
    "import matplotlib.pyplot as plt\n",
    "from tensorflow import keras\n",
    "import numpy as np\n",
    "from sklearn.utils import shuffle\n",
    "import pandas as pd \n",
    "from skimage.io import imread, imshow\n",
    "from skimage.transform import rescale\n",
    "from os import listdir\n",
    "from sklearn.model_selection import train_test_split as tts\n",
    "from skimage.color import rgb2hsv\n",
    "from skimage.filters import threshold_otsu\n",
    "from os import listdir\n",
    "import pickle"
   ]
  },
  {
   "cell_type": "code",
   "execution_count": 2,
   "metadata": {},
   "outputs": [
    {
     "data": {
      "text/plain": [
       "[PhysicalDevice(name='/physical_device:CPU:0', device_type='CPU'),\n",
       " PhysicalDevice(name='/physical_device:GPU:0', device_type='GPU')]"
      ]
     },
     "execution_count": 2,
     "metadata": {},
     "output_type": "execute_result"
    }
   ],
   "source": [
    " tf.config.list_physical_devices()"
   ]
  },
  {
   "cell_type": "code",
   "execution_count": 3,
   "metadata": {},
   "outputs": [],
   "source": [
    "with open('otsudataX','rb') as f:\n",
    "    X = pickle.load(f)\n",
    "\n",
    "with open('otsudataY','rb') as g:\n",
    "    Y = pickle.load(g)\n"
   ]
  },
  {
   "cell_type": "code",
   "execution_count": 4,
   "metadata": {},
   "outputs": [
    {
     "data": {
      "text/plain": [
       "(9957, 120, 160)"
      ]
     },
     "execution_count": 4,
     "metadata": {},
     "output_type": "execute_result"
    }
   ],
   "source": [
    "X.shape"
   ]
  },
  {
   "cell_type": "code",
   "execution_count": 5,
   "metadata": {},
   "outputs": [],
   "source": [
    "X_train, X_test, y_train, y_test = tts(X, Y, test_size=0.33)"
   ]
  },
  {
   "cell_type": "code",
   "execution_count": 6,
   "metadata": {},
   "outputs": [
    {
     "data": {
      "text/plain": [
       "(6671, 120, 160)"
      ]
     },
     "execution_count": 6,
     "metadata": {},
     "output_type": "execute_result"
    }
   ],
   "source": [
    "X_train.shape"
   ]
  },
  {
   "cell_type": "code",
   "execution_count": 7,
   "metadata": {},
   "outputs": [
    {
     "data": {
      "text/plain": [
       "(6671, 120, 160, 1)"
      ]
     },
     "execution_count": 7,
     "metadata": {},
     "output_type": "execute_result"
    }
   ],
   "source": [
    "X_train = X_train.reshape(6671,120,160,1)\n",
    "X_train.shape\n",
    "# y_train[0:20]"
   ]
  },
  {
   "cell_type": "code",
   "execution_count": 8,
   "metadata": {},
   "outputs": [
    {
     "data": {
      "text/plain": [
       "array([[0., 0., 0., 1.],\n",
       "       [0., 0., 1., 0.],\n",
       "       [0., 1., 0., 0.],\n",
       "       [0., 0., 0., 1.],\n",
       "       [0., 1., 0., 0.],\n",
       "       [0., 0., 0., 1.],\n",
       "       [0., 0., 0., 1.],\n",
       "       [0., 0., 0., 1.],\n",
       "       [0., 1., 0., 0.],\n",
       "       [0., 0., 1., 0.]], dtype=float32)"
      ]
     },
     "execution_count": 8,
     "metadata": {},
     "output_type": "execute_result"
    }
   ],
   "source": [
    "y_train_cate = keras.utils.to_categorical(\n",
    "    y_train,num_classes=4,dtype='float32'\n",
    ")\n",
    "\n",
    "y_train_cate[0:10]"
   ]
  },
  {
   "cell_type": "code",
   "execution_count": 9,
   "metadata": {},
   "outputs": [
    {
     "name": "stdout",
     "output_type": "stream",
     "text": [
      "Epoch 1/20\n",
      "209/209 [==============================] - 15s 28ms/step - loss: 1.3720 - accuracy: 0.2986\n",
      "Epoch 2/20\n",
      "209/209 [==============================] - 5s 26ms/step - loss: 1.0069 - accuracy: 0.5241\n",
      "Epoch 3/20\n",
      "209/209 [==============================] - 5s 26ms/step - loss: 0.7988 - accuracy: 0.6263\n",
      "Epoch 4/20\n",
      "209/209 [==============================] - 5s 26ms/step - loss: 0.7084 - accuracy: 0.6725\n",
      "Epoch 5/20\n",
      "209/209 [==============================] - 5s 26ms/step - loss: 0.6059 - accuracy: 0.7267\n",
      "Epoch 6/20\n",
      "209/209 [==============================] - 5s 26ms/step - loss: 0.5188 - accuracy: 0.7609\n",
      "Epoch 7/20\n",
      "209/209 [==============================] - 5s 26ms/step - loss: 0.4640 - accuracy: 0.7969\n",
      "Epoch 8/20\n",
      "209/209 [==============================] - 5s 26ms/step - loss: 0.3966 - accuracy: 0.8345\n",
      "Epoch 9/20\n",
      "209/209 [==============================] - 5s 26ms/step - loss: 0.3644 - accuracy: 0.8538\n",
      "Epoch 10/20\n",
      "209/209 [==============================] - 5s 26ms/step - loss: 0.2634 - accuracy: 0.8931\n",
      "Epoch 11/20\n",
      "209/209 [==============================] - 5s 26ms/step - loss: 0.2208 - accuracy: 0.9113\n",
      "Epoch 12/20\n",
      "209/209 [==============================] - 5s 26ms/step - loss: 0.1887 - accuracy: 0.9298\n",
      "Epoch 13/20\n",
      "209/209 [==============================] - 5s 26ms/step - loss: 0.1801 - accuracy: 0.9354\n",
      "Epoch 14/20\n",
      "209/209 [==============================] - 5s 26ms/step - loss: 0.1602 - accuracy: 0.9406\n",
      "Epoch 15/20\n",
      "209/209 [==============================] - 5s 26ms/step - loss: 0.1184 - accuracy: 0.9603\n",
      "Epoch 16/20\n",
      "209/209 [==============================] - 5s 26ms/step - loss: 0.0915 - accuracy: 0.9694\n",
      "Epoch 17/20\n",
      "209/209 [==============================] - 5s 26ms/step - loss: 0.1092 - accuracy: 0.9640\n",
      "Epoch 18/20\n",
      "209/209 [==============================] - 5s 26ms/step - loss: 0.0776 - accuracy: 0.9780\n",
      "Epoch 19/20\n",
      "209/209 [==============================] - 5s 26ms/step - loss: 0.0718 - accuracy: 0.9768\n",
      "Epoch 20/20\n",
      "209/209 [==============================] - 5s 25ms/step - loss: 0.0381 - accuracy: 0.9882\n"
     ]
    },
    {
     "data": {
      "text/plain": [
       "<keras.callbacks.History at 0x2695bc59d30>"
      ]
     },
     "execution_count": 9,
     "metadata": {},
     "output_type": "execute_result"
    }
   ],
   "source": [
    "model = keras.Sequential([\n",
    "    #cnn layers\n",
    "    keras.layers.Conv2D(filters=32,kernel_size=(3, 3),activation='relu',input_shape=(120,160,1)),\n",
    "    keras.layers.MaxPooling2D((2,2)),\n",
    "\n",
    "    keras.layers.Conv2D(filters=32,kernel_size=(3, 3),activation='relu'),\n",
    "    keras.layers.MaxPooling2D((2,2)),\n",
    "\n",
    "    keras.layers.Conv2D(filters=32,kernel_size=(3, 3),activation='relu'),\n",
    "    keras.layers.MaxPooling2D((2,2)),\n",
    "\n",
    "    keras.layers.Conv2D(filters=64,kernel_size=(3, 3),activation='relu'),\n",
    "    keras.layers.MaxPooling2D((2,2)),\n",
    "\n",
    "    #dense normal ann\n",
    "    keras.layers.Flatten(), \n",
    "    \n",
    "    keras.layers.Dense(60,activation='relu'),\n",
    "    keras.layers.Dense(30,activation='relu'),\n",
    "    keras.layers.Dense(10,activation='relu'),\n",
    "    \n",
    "    keras.layers.Dense(4,activation='softmax'),\n",
    "    #softmax normalises the probability of the output set\n",
    "])\n",
    "\n",
    "model.compile(\n",
    "    optimizer='adam',\n",
    "    loss = 'categorical_crossentropy',\n",
    "    metrics=['accuracy']\n",
    ")\n",
    "\n",
    "model.fit(X_train,y_train_cate,epochs=20)"
   ]
  },
  {
   "cell_type": "code",
   "execution_count": 10,
   "metadata": {},
   "outputs": [],
   "source": [
    "X_test = X_test.reshape(3286,120,160,1)\n",
    "y_test_cate = keras.utils.to_categorical(\n",
    "    y_test,num_classes=4,dtype='float32'\n",
    ")"
   ]
  },
  {
   "cell_type": "code",
   "execution_count": 11,
   "metadata": {},
   "outputs": [
    {
     "name": "stdout",
     "output_type": "stream",
     "text": [
      "103/103 [==============================] - 2s 14ms/step - loss: 1.9888 - accuracy: 0.7048\n"
     ]
    },
    {
     "data": {
      "text/plain": [
       "[1.9888017177581787, 0.7048082947731018]"
      ]
     },
     "execution_count": 11,
     "metadata": {},
     "output_type": "execute_result"
    }
   ],
   "source": [
    "model.evaluate(X_test,y_test_cate)"
   ]
  },
  {
   "cell_type": "code",
   "execution_count": 12,
   "metadata": {},
   "outputs": [],
   "source": [
    "yprob = model.predict(X_test)"
   ]
  },
  {
   "cell_type": "code",
   "execution_count": 13,
   "metadata": {},
   "outputs": [],
   "source": [
    "yprobcl = [np.argmax(i) for i in yprob]"
   ]
  },
  {
   "cell_type": "code",
   "execution_count": 19,
   "metadata": {},
   "outputs": [],
   "source": [
    "from sklearn.metrics import accuracy_score, confusion_matrix"
   ]
  },
  {
   "cell_type": "code",
   "execution_count": 17,
   "metadata": {},
   "outputs": [
    {
     "data": {
      "text/plain": [
       "0.7048082775410834"
      ]
     },
     "execution_count": 17,
     "metadata": {},
     "output_type": "execute_result"
    }
   ],
   "source": [
    "accuracy_score(y_test,yprobcl)"
   ]
  },
  {
   "cell_type": "code",
   "execution_count": 20,
   "metadata": {},
   "outputs": [
    {
     "data": {
      "text/html": [
       "<div>\n",
       "<style scoped>\n",
       "    .dataframe tbody tr th:only-of-type {\n",
       "        vertical-align: middle;\n",
       "    }\n",
       "\n",
       "    .dataframe tbody tr th {\n",
       "        vertical-align: top;\n",
       "    }\n",
       "\n",
       "    .dataframe thead th {\n",
       "        text-align: right;\n",
       "    }\n",
       "</style>\n",
       "<table border=\"1\" class=\"dataframe\">\n",
       "  <thead>\n",
       "    <tr style=\"text-align: right;\">\n",
       "      <th></th>\n",
       "      <th>Predicted 0</th>\n",
       "      <th>Predicted 1</th>\n",
       "      <th>Predicted 2</th>\n",
       "      <th>Predicted 3</th>\n",
       "    </tr>\n",
       "  </thead>\n",
       "  <tbody>\n",
       "    <tr>\n",
       "      <th>Actual 0</th>\n",
       "      <td>429</td>\n",
       "      <td>45</td>\n",
       "      <td>73</td>\n",
       "      <td>262</td>\n",
       "    </tr>\n",
       "    <tr>\n",
       "      <th>Actual 1</th>\n",
       "      <td>70</td>\n",
       "      <td>686</td>\n",
       "      <td>66</td>\n",
       "      <td>50</td>\n",
       "    </tr>\n",
       "    <tr>\n",
       "      <th>Actual 2</th>\n",
       "      <td>68</td>\n",
       "      <td>30</td>\n",
       "      <td>660</td>\n",
       "      <td>49</td>\n",
       "    </tr>\n",
       "    <tr>\n",
       "      <th>Actual 3</th>\n",
       "      <td>184</td>\n",
       "      <td>36</td>\n",
       "      <td>37</td>\n",
       "      <td>541</td>\n",
       "    </tr>\n",
       "  </tbody>\n",
       "</table>\n",
       "</div>"
      ],
      "text/plain": [
       "          Predicted 0  Predicted 1  Predicted 2  Predicted 3\n",
       "Actual 0          429           45           73          262\n",
       "Actual 1           70          686           66           50\n",
       "Actual 2           68           30          660           49\n",
       "Actual 3          184           36           37          541"
      ]
     },
     "execution_count": 20,
     "metadata": {},
     "output_type": "execute_result"
    }
   ],
   "source": [
    "from sklearn.utils.multiclass import unique_labels\n",
    "def plot(y_true,y_pred):    \n",
    "    column = [f'Predicted {label}' for label in unique_labels(y_true)]\n",
    "    indexx = [f'Actual {label}' for label in unique_labels(y_true)]\n",
    "    table = pd.DataFrame(confusion_matrix(y_true,y_pred),columns=column,index=indexx)\n",
    "    return table\n",
    "\n",
    "plot(y_test,yprobcl)"
   ]
  },
  {
   "cell_type": "code",
   "execution_count": null,
   "metadata": {},
   "outputs": [],
   "source": []
  }
 ],
 "metadata": {
  "interpreter": {
   "hash": "6a60c7c0bbb9bc49c8f38655c364c79f9d895feb50eef24a1951784535a81066"
  },
  "kernelspec": {
   "display_name": "Python 3.9.7 64-bit",
   "name": "python3"
  },
  "language_info": {
   "codemirror_mode": {
    "name": "ipython",
    "version": 3
   },
   "file_extension": ".py",
   "mimetype": "text/x-python",
   "name": "python",
   "nbconvert_exporter": "python",
   "pygments_lexer": "ipython3",
   "version": "3.9.7"
  },
  "orig_nbformat": 4
 },
 "nbformat": 4,
 "nbformat_minor": 2
}
