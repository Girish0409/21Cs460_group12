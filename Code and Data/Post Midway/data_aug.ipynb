{
 "cells": [
  {
   "cell_type": "code",
   "execution_count": 2,
   "metadata": {},
   "outputs": [],
   "source": [
    "from skimage.io import imread\n",
    "from os import listdir\n",
    "\n",
    "from keras.preprocessing.image import ImageDataGenerator"
   ]
  },
  {
   "cell_type": "code",
   "execution_count": 5,
   "metadata": {},
   "outputs": [],
   "source": [
    "datagen = ImageDataGenerator(\n",
    "    rotation_range=80,\n",
    "    width_shift_range=0.4,\n",
    "    height_shift_range=0.4,\n",
    "    zoom_range=0.5,\n",
    "    horizontal_flip=True,\n",
    "    vertical_flip=True,\n",
    "    fill_mode='nearest'\n",
    "\n",
    ")"
   ]
  },
  {
   "cell_type": "code",
   "execution_count": 19,
   "metadata": {},
   "outputs": [],
   "source": [
    "for filename in listdir('D:/NISER/Physics/7th Sem Stuffs/Machine Learning/Semester Project/Dataset/dataset2-master/dataset2-master/images/TRAIN/NEUTROPHIL'):\n",
    "    x = imread('D:/NISER/Physics/7th Sem Stuffs/Machine Learning/Semester Project/Dataset/dataset2-master/dataset2-master/images/TRAIN/NEUTROPHIL/' + filename,as_gray=False)\n",
    "    x = x.reshape((1,)+x.shape)\n",
    "    i = 0 \n",
    "    for batch in datagen.flow(x,batch_size=1,save_to_dir='D:/NISER/Physics/7th Sem Stuffs/Machine Learning/Semester Project/Dataset/dataset2-master/dataset2-master/aug',save_prefix='aug',save_format='jpeg'):\n",
    "        i += 1\n",
    "        if i > 3:\n",
    "            break\n",
    "\n"
   ]
  }
 ],
 "metadata": {
  "interpreter": {
   "hash": "6a60c7c0bbb9bc49c8f38655c364c79f9d895feb50eef24a1951784535a81066"
  },
  "kernelspec": {
   "display_name": "Python 3.9.7 64-bit",
   "language": "python",
   "name": "python3"
  },
  "language_info": {
   "codemirror_mode": {
    "name": "ipython",
    "version": 3
   },
   "file_extension": ".py",
   "mimetype": "text/x-python",
   "name": "python",
   "nbconvert_exporter": "python",
   "pygments_lexer": "ipython3",
   "version": "3.9.7"
  },
  "orig_nbformat": 4
 },
 "nbformat": 4,
 "nbformat_minor": 2
}
