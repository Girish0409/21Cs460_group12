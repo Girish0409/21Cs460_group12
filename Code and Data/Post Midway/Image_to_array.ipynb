{
 "cells": [
  {
   "cell_type": "code",
   "execution_count": 1,
   "metadata": {},
   "outputs": [],
   "source": [
    "#IMPORTING STUFFS\n",
    "import tensorflow as tf\n",
    "import matplotlib.pyplot as plt\n",
    "from tensorflow import keras\n",
    "import numpy as np\n",
    "from sklearn.utils import shuffle\n",
    "import pandas as pd \n",
    "from skimage.io import imread, imshow\n",
    "from skimage.transform import rescale\n",
    "from os import listdir\n",
    "from sklearn.model_selection import train_test_split as tts\n",
    "import pickle"
   ]
  },
  {
   "cell_type": "code",
   "execution_count": 2,
   "metadata": {},
   "outputs": [
    {
     "data": {
      "text/plain": [
       "[PhysicalDevice(name='/physical_device:CPU:0', device_type='CPU'),\n",
       " PhysicalDevice(name='/physical_device:GPU:0', device_type='GPU')]"
      ]
     },
     "execution_count": 2,
     "metadata": {},
     "output_type": "execute_result"
    }
   ],
   "source": [
    "tf.config.list_physical_devices()"
   ]
  },
  {
   "cell_type": "code",
   "execution_count": 3,
   "metadata": {},
   "outputs": [
    {
     "ename": "KeyboardInterrupt",
     "evalue": "",
     "output_type": "error",
     "traceback": [
      "\u001b[1;31m---------------------------------------------------------------------------\u001b[0m",
      "\u001b[1;31mKeyboardInterrupt\u001b[0m                         Traceback (most recent call last)",
      "\u001b[1;32m~\\AppData\\Local\\Temp/ipykernel_3040/2390233749.py\u001b[0m in \u001b[0;36m<module>\u001b[1;34m\u001b[0m\n\u001b[0;32m      4\u001b[0m \u001b[1;32mfor\u001b[0m \u001b[0mfilename\u001b[0m \u001b[1;32min\u001b[0m \u001b[0mlistdir\u001b[0m\u001b[1;33m(\u001b[0m\u001b[1;34m'D:/NISER/Physics/7th Sem Stuffs/Machine Learning/Semester Project/Dataset/dataset2-master/dataset2-master/images/TRAIN/EOSINOPHIL'\u001b[0m\u001b[1;33m)\u001b[0m\u001b[1;33m:\u001b[0m\u001b[1;33m\u001b[0m\u001b[1;33m\u001b[0m\u001b[0m\n\u001b[0;32m      5\u001b[0m     \u001b[1;31m# load image\u001b[0m\u001b[1;33m\u001b[0m\u001b[1;33m\u001b[0m\u001b[0m\n\u001b[1;32m----> 6\u001b[1;33m     \u001b[0mimg_data\u001b[0m \u001b[1;33m=\u001b[0m \u001b[0mimread\u001b[0m\u001b[1;33m(\u001b[0m\u001b[1;34m'D:/NISER/Physics/7th Sem Stuffs/Machine Learning/Semester Project/Dataset/dataset2-master/dataset2-master/images/TRAIN/EOSINOPHIL/'\u001b[0m \u001b[1;33m+\u001b[0m \u001b[0mfilename\u001b[0m\u001b[1;33m,\u001b[0m\u001b[0mas_gray\u001b[0m\u001b[1;33m=\u001b[0m\u001b[1;32mTrue\u001b[0m\u001b[1;33m)\u001b[0m\u001b[1;33m\u001b[0m\u001b[1;33m\u001b[0m\u001b[0m\n\u001b[0m\u001b[0;32m      7\u001b[0m     \u001b[1;31m#Rescaling the image\u001b[0m\u001b[1;33m\u001b[0m\u001b[1;33m\u001b[0m\u001b[0m\n\u001b[0;32m      8\u001b[0m     \u001b[0mimage_r\u001b[0m \u001b[1;33m=\u001b[0m \u001b[0mrescale\u001b[0m\u001b[1;33m(\u001b[0m\u001b[0mimg_data\u001b[0m\u001b[1;33m,\u001b[0m \u001b[1;36m0.5\u001b[0m\u001b[1;33m,\u001b[0m \u001b[0manti_aliasing\u001b[0m\u001b[1;33m=\u001b[0m\u001b[1;32mFalse\u001b[0m\u001b[1;33m)\u001b[0m\u001b[1;33m\u001b[0m\u001b[1;33m\u001b[0m\u001b[0m\n",
      "\u001b[1;32m~\\AppData\\Local\\Programs\\Python\\Python39\\lib\\site-packages\\skimage\\io\\_io.py\u001b[0m in \u001b[0;36mimread\u001b[1;34m(fname, as_gray, plugin, **plugin_args)\u001b[0m\n\u001b[0;32m     59\u001b[0m             \u001b[1;32mif\u001b[0m \u001b[0mimg\u001b[0m\u001b[1;33m.\u001b[0m\u001b[0mshape\u001b[0m\u001b[1;33m[\u001b[0m\u001b[1;36m2\u001b[0m\u001b[1;33m]\u001b[0m \u001b[1;33m==\u001b[0m \u001b[1;36m4\u001b[0m\u001b[1;33m:\u001b[0m\u001b[1;33m\u001b[0m\u001b[1;33m\u001b[0m\u001b[0m\n\u001b[0;32m     60\u001b[0m                 \u001b[0mimg\u001b[0m \u001b[1;33m=\u001b[0m \u001b[0mrgba2rgb\u001b[0m\u001b[1;33m(\u001b[0m\u001b[0mimg\u001b[0m\u001b[1;33m)\u001b[0m\u001b[1;33m\u001b[0m\u001b[1;33m\u001b[0m\u001b[0m\n\u001b[1;32m---> 61\u001b[1;33m             \u001b[0mimg\u001b[0m \u001b[1;33m=\u001b[0m \u001b[0mrgb2gray\u001b[0m\u001b[1;33m(\u001b[0m\u001b[0mimg\u001b[0m\u001b[1;33m)\u001b[0m\u001b[1;33m\u001b[0m\u001b[1;33m\u001b[0m\u001b[0m\n\u001b[0m\u001b[0;32m     62\u001b[0m \u001b[1;33m\u001b[0m\u001b[0m\n\u001b[0;32m     63\u001b[0m     \u001b[1;32mreturn\u001b[0m \u001b[0mimg\u001b[0m\u001b[1;33m\u001b[0m\u001b[1;33m\u001b[0m\u001b[0m\n",
      "\u001b[1;32m~\\AppData\\Local\\Programs\\Python\\Python39\\lib\\site-packages\\skimage\\color\\colorconv.py\u001b[0m in \u001b[0;36mrgb2gray\u001b[1;34m(rgb)\u001b[0m\n\u001b[0;32m    785\u001b[0m     \u001b[0mrgb\u001b[0m \u001b[1;33m=\u001b[0m \u001b[0m_prepare_colorarray\u001b[0m\u001b[1;33m(\u001b[0m\u001b[0mrgb\u001b[0m\u001b[1;33m)\u001b[0m\u001b[1;33m\u001b[0m\u001b[1;33m\u001b[0m\u001b[0m\n\u001b[0;32m    786\u001b[0m     \u001b[0mcoeffs\u001b[0m \u001b[1;33m=\u001b[0m \u001b[0mnp\u001b[0m\u001b[1;33m.\u001b[0m\u001b[0marray\u001b[0m\u001b[1;33m(\u001b[0m\u001b[1;33m[\u001b[0m\u001b[1;36m0.2125\u001b[0m\u001b[1;33m,\u001b[0m \u001b[1;36m0.7154\u001b[0m\u001b[1;33m,\u001b[0m \u001b[1;36m0.0721\u001b[0m\u001b[1;33m]\u001b[0m\u001b[1;33m,\u001b[0m \u001b[0mdtype\u001b[0m\u001b[1;33m=\u001b[0m\u001b[0mrgb\u001b[0m\u001b[1;33m.\u001b[0m\u001b[0mdtype\u001b[0m\u001b[1;33m)\u001b[0m\u001b[1;33m\u001b[0m\u001b[1;33m\u001b[0m\u001b[0m\n\u001b[1;32m--> 787\u001b[1;33m     \u001b[1;32mreturn\u001b[0m \u001b[0mrgb\u001b[0m \u001b[1;33m@\u001b[0m \u001b[0mcoeffs\u001b[0m\u001b[1;33m\u001b[0m\u001b[1;33m\u001b[0m\u001b[0m\n\u001b[0m\u001b[0;32m    788\u001b[0m \u001b[1;33m\u001b[0m\u001b[0m\n\u001b[0;32m    789\u001b[0m \u001b[1;33m\u001b[0m\u001b[0m\n",
      "\u001b[1;31mKeyboardInterrupt\u001b[0m: "
     ]
    }
   ],
   "source": [
    "#GETTING DATA\n",
    "X = []\n",
    "Y = []\n",
    "for filename in listdir('D:/NISER/Physics/7th Sem Stuffs/Machine Learning/Semester Project/Dataset/dataset2-master/dataset2-master/images/TRAIN/EOSINOPHIL'):\n",
    "    # load image\n",
    "    img_data = imread('D:/NISER/Physics/7th Sem Stuffs/Machine Learning/Semester Project/Dataset/dataset2-master/dataset2-master/images/TRAIN/EOSINOPHIL/' + filename,as_gray=True)\n",
    "    #Rescaling the image\n",
    "    image_r = rescale(img_data, 0.5, anti_aliasing=False)\n",
    "    X.append(image_r)\n",
    "    Y.append(0)\n",
    "\n",
    "for filename in listdir('D:/NISER/Physics/7th Sem Stuffs/Machine Learning/Semester Project/Dataset/dataset2-master/dataset2-master/images/TRAIN/LYMPHOCYTE'):\n",
    "    # load image\n",
    "    img_data = imread('D:/NISER/Physics/7th Sem Stuffs/Machine Learning/Semester Project/Dataset/dataset2-master/dataset2-master/images/TRAIN/LYMPHOCYTE/' + filename,as_gray=True)\n",
    "    #Rescaling the image\n",
    "    image_r = rescale(img_data, 0.5, anti_aliasing=False)\n",
    "    X.append(image_r)\n",
    "    Y.append(1)\n",
    "\n",
    "for filename in listdir('D:/NISER/Physics/7th Sem Stuffs/Machine Learning/Semester Project/Dataset/dataset2-master/dataset2-master/images/TRAIN/MONOCYTE'):\n",
    "    # load image\n",
    "    img_data = imread('D:/NISER/Physics/7th Sem Stuffs/Machine Learning/Semester Project/Dataset/dataset2-master/dataset2-master/images/TRAIN/MONOCYTE/' + filename,as_gray=True)\n",
    "    #Rescaling the image\n",
    "    image_r = rescale(img_data, 0.5, anti_aliasing=False)\n",
    "    X.append(image_r)\n",
    "    Y.append(2)\n",
    "\n",
    "for filename in listdir('D:/NISER/Physics/7th Sem Stuffs/Machine Learning/Semester Project/Dataset/dataset2-master/dataset2-master/images/TRAIN/NEUTROPHIL'):\n",
    "    # load image\n",
    "    img_data = imread('D:/NISER/Physics/7th Sem Stuffs/Machine Learning/Semester Project/Dataset/dataset2-master/dataset2-master/images/TRAIN/NEUTROPHIL/' + filename,as_gray=True)\n",
    "    #Rescaling the image\n",
    "    image_r = rescale(img_data, 0.5, anti_aliasing=False)\n",
    "    X.append(image_r)\n",
    "    Y.append(3)\n",
    "\n",
    "X_arr = np.array(X)\n",
    "Y_arr = np.array(Y)\n",
    "\n"
   ]
  },
  {
   "cell_type": "code",
   "execution_count": 4,
   "metadata": {},
   "outputs": [],
   "source": [
    "Xfi,Yfi = shuffle(X_arr,Y_arr)"
   ]
  },
  {
   "cell_type": "code",
   "execution_count": 9,
   "metadata": {},
   "outputs": [],
   "source": [
    "with open('dataX','wb') as f:\n",
    "    pickle.dump(Xfi,f)\n",
    "\n",
    "with open('dataY','wb') as g:\n",
    "    pickle.dump(Yfi,g)"
   ]
  },
  {
   "cell_type": "code",
   "execution_count": null,
   "metadata": {},
   "outputs": [],
   "source": []
  }
 ],
 "metadata": {
  "interpreter": {
   "hash": "6a60c7c0bbb9bc49c8f38655c364c79f9d895feb50eef24a1951784535a81066"
  },
  "kernelspec": {
   "display_name": "Python 3.9.7 64-bit",
   "name": "python3"
  },
  "language_info": {
   "codemirror_mode": {
    "name": "ipython",
    "version": 3
   },
   "file_extension": ".py",
   "mimetype": "text/x-python",
   "name": "python",
   "nbconvert_exporter": "python",
   "pygments_lexer": "ipython3",
   "version": "3.9.7"
  },
  "orig_nbformat": 4
 },
 "nbformat": 4,
 "nbformat_minor": 2
}
